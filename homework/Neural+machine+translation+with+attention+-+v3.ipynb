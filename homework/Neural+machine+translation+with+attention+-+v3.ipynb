{
 "cells": [
  {
   "cell_type": "markdown",
   "metadata": {},
   "source": [
    "# Neural Machine Translation\n",
    "\n",
    "Welcome to your first programming assignment for this week! \n",
    "\n",
    "You will build a Neural Machine Translation (NMT) model to translate human readable dates (\"25th of June, 2009\") into machine readable dates (\"2009-06-25\"). You will do this using an attention model, one of the most sophisticated sequence to sequence models. \n",
    "\n",
    "This notebook was produced together with NVIDIA's Deep Learning Institute. \n",
    "\n",
    "Let's load all the packages you will need for this assignment."
   ]
  },
  {
   "cell_type": "code",
   "execution_count": 1,
   "metadata": {},
   "outputs": [
    {
     "name": "stderr",
     "output_type": "stream",
     "text": [
      "Using TensorFlow backend.\n"
     ]
    }
   ],
   "source": [
    "from keras.layers import Bidirectional, Concatenate, Permute, Dot, Input, LSTM, Multiply\n",
    "from keras.layers import RepeatVector, Dense, Activation, Lambda\n",
    "from keras.optimizers import Adam\n",
    "from keras.utils import to_categorical\n",
    "from keras.models import load_model, Model\n",
    "import keras.backend as K\n",
    "import numpy as np\n",
    "\n",
    "from faker import Faker\n",
    "import random\n",
    "from tqdm import tqdm\n",
    "from babel.dates import format_date\n",
    "from nmt_utils import *\n",
    "import matplotlib.pyplot as plt\n",
    "%matplotlib inline"
   ]
  },
  {
   "cell_type": "markdown",
   "metadata": {},
   "source": [
    "## 1 - Translating human readable dates into machine readable dates\n",
    "\n",
    "The model you will build here could be used to translate from one language to another, such as translating from English to Hindi. However, language translation requires massive datasets and usually takes days of training on GPUs. To give you a place to experiment with these models even without using massive datasets, we will instead use a simpler \"date translation\" task. \n",
    "\n",
    "The network will input a date written in a variety of possible formats (*e.g. \"the 29th of August 1958\", \"03/30/1968\", \"24 JUNE 1987\"*) and translate them into standardized, machine readable dates (*e.g. \"1958-08-29\", \"1968-03-30\", \"1987-06-24\"*). We will have the network learn to output dates in the common machine-readable format YYYY-MM-DD. \n",
    "\n",
    "\n",
    "\n",
    "<!-- \n",
    "Take a look at [nmt_utils.py](./nmt_utils.py) to see all the formatting. Count and figure out how the formats work, you will need this knowledge later. !--> "
   ]
  },
  {
   "cell_type": "markdown",
   "metadata": {},
   "source": [
    "### 1.1 - Dataset\n",
    "\n",
    "We will train the model on a dataset of 10000 human readable dates and their equivalent, standardized, machine readable dates. Let's run the following cells to load the dataset and print some examples. "
   ]
  },
  {
   "cell_type": "code",
   "execution_count": 2,
   "metadata": {},
   "outputs": [
    {
     "name": "stderr",
     "output_type": "stream",
     "text": [
      "100%|█████████████████████████████████████████████████████████████████████████| 10000/10000 [00:00<00:00, 29474.23it/s]\n"
     ]
    }
   ],
   "source": [
    "m = 10000\n",
    "dataset, human_vocab, machine_vocab, inv_machine_vocab = load_dataset(m)"
   ]
  },
  {
   "cell_type": "code",
   "execution_count": 3,
   "metadata": {},
   "outputs": [
    {
     "data": {
      "text/plain": [
       "[('9 may 1998', '1998-05-09'),\n",
       " ('10.09.70', '1970-09-10'),\n",
       " ('4/28/90', '1990-04-28'),\n",
       " ('thursday january 26 1995', '1995-01-26'),\n",
       " ('monday march 7 1983', '1983-03-07'),\n",
       " ('sunday may 22 1988', '1988-05-22'),\n",
       " ('tuesday july 8 2008', '2008-07-08'),\n",
       " ('08 sep 1999', '1999-09-08'),\n",
       " ('1 jan 1981', '1981-01-01'),\n",
       " ('monday may 22 1995', '1995-05-22')]"
      ]
     },
     "execution_count": 3,
     "metadata": {},
     "output_type": "execute_result"
    }
   ],
   "source": [
    "dataset[:10]"
   ]
  },
  {
   "cell_type": "markdown",
   "metadata": {},
   "source": [
    "You've loaded:\n",
    "- `dataset`: a list of tuples of (human readable date, machine readable date)\n",
    "- `human_vocab`: a python dictionary mapping all characters used in the human readable dates to an integer-valued index \n",
    "- `machine_vocab`: a python dictionary mapping all characters used in machine readable dates to an integer-valued index. These indices are not necessarily consistent with `human_vocab`. \n",
    "- `inv_machine_vocab`: the inverse dictionary of `machine_vocab`, mapping from indices back to characters. \n",
    "\n",
    "Let's preprocess the data and map the raw text data into the index values. We will also use Tx=30 (which we assume is the maximum length of the human readable date; if we get a longer input, we would have to truncate it) and Ty=10 (since \"YYYY-MM-DD\" is 10 characters long). "
   ]
  },
  {
   "cell_type": "code",
   "execution_count": 4,
   "metadata": {},
   "outputs": [
    {
     "name": "stdout",
     "output_type": "stream",
     "text": [
      "X.shape: (10000, 30)\n",
      "Y.shape: (10000, 10)\n",
      "Xoh.shape: (10000, 30, 37)\n",
      "Yoh.shape: (10000, 10, 11)\n"
     ]
    }
   ],
   "source": [
    "Tx = 30\n",
    "Ty = 10\n",
    "X, Y, Xoh, Yoh = preprocess_data(dataset, human_vocab, machine_vocab, Tx, Ty)\n",
    "\n",
    "print(\"X.shape:\", X.shape)\n",
    "print(\"Y.shape:\", Y.shape)\n",
    "print(\"Xoh.shape:\", Xoh.shape)\n",
    "print(\"Yoh.shape:\", Yoh.shape)"
   ]
  },
  {
   "cell_type": "markdown",
   "metadata": {},
   "source": [
    "You now have:\n",
    "- `X`: a processed version of the human readable dates in the training set, where each character is replaced by an index mapped to the character via `human_vocab`. Each date is further padded to $T_x$ values with a special character (< pad >). `X.shape = (m, Tx)`\n",
    "- `Y`: a processed version of the machine readable dates in the training set, where each character is replaced by the index it is mapped to in `machine_vocab`. You should have `Y.shape = (m, Ty)`. \n",
    "- `Xoh`: one-hot version of `X`, the \"1\" entry's index is mapped to the character thanks to `human_vocab`. `Xoh.shape = (m, Tx, len(human_vocab))`\n",
    "- `Yoh`: one-hot version of `Y`, the \"1\" entry's index is mapped to the character thanks to `machine_vocab`. `Yoh.shape = (m, Tx, len(machine_vocab))`. Here, `len(machine_vocab) = 11` since there are 11 characters ('-' as well as 0-9). \n"
   ]
  },
  {
   "cell_type": "markdown",
   "metadata": {},
   "source": [
    "Lets also look at some examples of preprocessed training examples. Feel free to play with `index` in the cell below to navigate the dataset and see how source/target dates are preprocessed. "
   ]
  },
  {
   "cell_type": "code",
   "execution_count": 5,
   "metadata": {},
   "outputs": [
    {
     "name": "stdout",
     "output_type": "stream",
     "text": [
      "Source date: 9 may 1998\n",
      "Target date: 1998-05-09\n",
      "\n",
      "Source after preprocessing (indices): [12  0 24 13 34  0  4 12 12 11 36 36 36 36 36 36 36 36 36 36 36 36 36 36\n",
      " 36 36 36 36 36 36]\n",
      "Target after preprocessing (indices): [ 2 10 10  9  0  1  6  0  1 10]\n",
      "\n",
      "Source after preprocessing (one-hot): [[0. 0. 0. ... 0. 0. 0.]\n",
      " [1. 0. 0. ... 0. 0. 0.]\n",
      " [0. 0. 0. ... 0. 0. 0.]\n",
      " ...\n",
      " [0. 0. 0. ... 0. 0. 1.]\n",
      " [0. 0. 0. ... 0. 0. 1.]\n",
      " [0. 0. 0. ... 0. 0. 1.]]\n",
      "Target after preprocessing (one-hot): [[0. 0. 1. 0. 0. 0. 0. 0. 0. 0. 0.]\n",
      " [0. 0. 0. 0. 0. 0. 0. 0. 0. 0. 1.]\n",
      " [0. 0. 0. 0. 0. 0. 0. 0. 0. 0. 1.]\n",
      " [0. 0. 0. 0. 0. 0. 0. 0. 0. 1. 0.]\n",
      " [1. 0. 0. 0. 0. 0. 0. 0. 0. 0. 0.]\n",
      " [0. 1. 0. 0. 0. 0. 0. 0. 0. 0. 0.]\n",
      " [0. 0. 0. 0. 0. 0. 1. 0. 0. 0. 0.]\n",
      " [1. 0. 0. 0. 0. 0. 0. 0. 0. 0. 0.]\n",
      " [0. 1. 0. 0. 0. 0. 0. 0. 0. 0. 0.]\n",
      " [0. 0. 0. 0. 0. 0. 0. 0. 0. 0. 1.]]\n"
     ]
    }
   ],
   "source": [
    "index = 0\n",
    "print(\"Source date:\", dataset[index][0])\n",
    "print(\"Target date:\", dataset[index][1])\n",
    "print()\n",
    "print(\"Source after preprocessing (indices):\", X[index])\n",
    "print(\"Target after preprocessing (indices):\", Y[index])\n",
    "print()\n",
    "print(\"Source after preprocessing (one-hot):\", Xoh[index])\n",
    "print(\"Target after preprocessing (one-hot):\", Yoh[index])"
   ]
  },
  {
   "cell_type": "markdown",
   "metadata": {},
   "source": [
    "## 2 - Neural machine translation with attention\n",
    "\n",
    "If you had to translate a book's paragraph from French to English, you would not read the whole paragraph, then close the book and translate. Even during the translation process, you would read/re-read and focus on the parts of the French paragraph corresponding to the parts of the English you are writing down. \n",
    "\n",
    "The attention mechanism tells a Neural Machine Translation model where it should pay attention to at any step. \n",
    "\n",
    "\n",
    "### 2.1 - Attention mechanism\n",
    "\n",
    "In this part, you will implement the attention mechanism presented in the lecture videos. Here is a figure to remind you how the model works. The diagram on the left shows the attention model. The diagram on the right shows what one \"Attention\" step does to calculate the attention variables $\\alpha^{\\langle t, t' \\rangle}$, which are used to compute the context variable $context^{\\langle t \\rangle}$ for each timestep in the output ($t=1, \\ldots, T_y$). \n",
    "\n",
    "<table>\n",
    "<td> \n",
    "<img src=\"images/attn_model.png\" style=\"width:500;height:500px;\"> <br>\n",
    "</td> \n",
    "<td> \n",
    "<img src=\"images/attn_mechanism.png\" style=\"width:500;height:500px;\"> <br>\n",
    "</td> \n",
    "</table>\n",
    "<caption><center> **Figure 1**: Neural machine translation with attention</center></caption>\n"
   ]
  },
  {
   "cell_type": "markdown",
   "metadata": {},
   "source": [
    "\n",
    "Here are some properties of the model that you may notice: \n",
    "\n",
    "- There are two separate LSTMs in this model (see diagram on the left). Because the one at the bottom of the picture is a Bi-directional LSTM and comes *before* the attention mechanism, we will call it *pre-attention* Bi-LSTM. The LSTM at the top of the diagram comes *after* the attention mechanism, so we will call it the *post-attention* LSTM. The pre-attention Bi-LSTM goes through $T_x$ time steps; the post-attention LSTM goes through $T_y$ time steps. \n",
    "\n",
    "- The post-attention LSTM passes $s^{\\langle t \\rangle}, c^{\\langle t \\rangle}$ from one time step to the next. In the lecture videos, we were using only a basic RNN for the post-activation sequence model, so the state captured by the RNN output activations $s^{\\langle t\\rangle}$. But since we are using an LSTM here, the LSTM has both the output activation $s^{\\langle t\\rangle}$ and the hidden cell state $c^{\\langle t\\rangle}$. However, unlike previous text generation examples (such as Dinosaurus in week 1), in this model the post-activation LSTM at time $t$ does will not take the specific generated $y^{\\langle t-1 \\rangle}$ as input; it only takes $s^{\\langle t\\rangle}$ and $c^{\\langle t\\rangle}$ as input. We have designed the model this way, because (unlike language generation where adjacent characters are highly correlated) there isn't as strong a dependency between the previous character and the next character in a YYYY-MM-DD date. \n",
    "\n",
    "- We use $a^{\\langle t \\rangle} = [\\overrightarrow{a}^{\\langle t \\rangle}; \\overleftarrow{a}^{\\langle t \\rangle}]$ to represent the concatenation of the activations of both the forward-direction and backward-directions of the pre-attention Bi-LSTM. \n",
    "\n",
    "- The diagram on the right uses a `RepeatVector` node to copy $s^{\\langle t-1 \\rangle}$'s value $T_x$ times, and then `Concatenation` to concatenate $s^{\\langle t-1 \\rangle}$ and $a^{\\langle t \\rangle}$ to compute $e^{\\langle t, t'\\rangle}$, which is then passed through a softmax to compute $\\alpha^{\\langle t, t' \\rangle}$. We'll explain how to use `RepeatVector` and `Concatenation` in Keras below. \n",
    "\n",
    "Lets implement this model. You will start by implementing two functions: `one_step_attention()` and `model()`.\n",
    "\n",
    "**1) `one_step_attention()`**: At step $t$, given all the hidden states of the Bi-LSTM ($[a^{<1>},a^{<2>}, ..., a^{<T_x>}]$) and the previous hidden state of the second LSTM ($s^{<t-1>}$), `one_step_attention()` will compute the attention weights ($[\\alpha^{<t,1>},\\alpha^{<t,2>}, ..., \\alpha^{<t,T_x>}]$) and output the context vector (see Figure  1 (right) for details):\n",
    "$$context^{<t>} = \\sum_{t' = 0}^{T_x} \\alpha^{<t,t'>}a^{<t'>}\\tag{1}$$ \n",
    "\n",
    "Note that we are denoting the attention in this notebook $context^{\\langle t \\rangle}$. In the lecture videos, the context was denoted $c^{\\langle t \\rangle}$, but here we are calling it $context^{\\langle t \\rangle}$ to avoid confusion with the (post-attention) LSTM's internal memory cell variable, which is sometimes also denoted $c^{\\langle t \\rangle}$. \n",
    "  \n",
    "**2) `model()`**: Implements the entire model. It first runs the input through a Bi-LSTM to get back $[a^{<1>},a^{<2>}, ..., a^{<T_x>}]$. Then, it calls `one_step_attention()` $T_y$ times (`for` loop). At each iteration of this loop, it gives the computed context vector $c^{<t>}$ to the second LSTM, and runs the output of the LSTM through a dense layer with softmax activation to generate a prediction $\\hat{y}^{<t>}$. \n",
    "\n",
    "\n",
    "\n",
    "**Exercise**: Implement `one_step_attention()`. The function `model()` will call the layers in `one_step_attention()` $T_y$ using a for-loop, and it is important that all $T_y$ copies have the same weights. I.e., it should not re-initiaiize the weights every time. In other words, all $T_y$ steps should have shared weights. Here's how you can implement layers with shareable weights in Keras:\n",
    "1. Define the layer objects (as global variables for examples).\n",
    "2. Call these objects when propagating the input.\n",
    "\n",
    "We have defined the layers you need as global variables. Please run the following cells to create them. Please check the Keras documentation to make sure you understand what these layers are: [RepeatVector()](https://keras.io/layers/core/#repeatvector), [Concatenate()](https://keras.io/layers/merge/#concatenate), [Dense()](https://keras.io/layers/core/#dense), [Activation()](https://keras.io/layers/core/#activation), [Dot()](https://keras.io/layers/merge/#dot)."
   ]
  },
  {
   "cell_type": "code",
   "execution_count": 6,
   "metadata": {},
   "outputs": [],
   "source": [
    "# Defined shared layers as global variables\n",
    "repeator = RepeatVector(Tx)\n",
    "concatenator = Concatenate(axis=-1)\n",
    "densor1 = Dense(10, activation = \"tanh\")\n",
    "densor2 = Dense(1, activation = \"relu\")\n",
    "activator = Activation(softmax, name='attention_weights') # We are using a custom softmax(axis = 1) loaded in this notebook\n",
    "dotor = Dot(axes = 1)"
   ]
  },
  {
   "cell_type": "markdown",
   "metadata": {},
   "source": [
    "Now you can use these layers to implement `one_step_attention()`. In order to propagate a Keras tensor object X through one of these layers, use `layer(X)` (or `layer([X,Y])` if it requires multiple inputs.), e.g. `densor(X)` will propagate X through the `Dense(1)` layer defined above."
   ]
  },
  {
   "cell_type": "code",
   "execution_count": 26,
   "metadata": {},
   "outputs": [],
   "source": [
    "# GRADED FUNCTION: one_step_attention\n",
    "\n",
    "def one_step_attention(a, s_prev):\n",
    "    \"\"\"\n",
    "    Performs one step of attention: Outputs a context vector computed as a dot product of the attention weights\n",
    "    \"alphas\" and the hidden states \"a\" of the Bi-LSTM.\n",
    "    \n",
    "    Arguments:\n",
    "    a -- hidden state output of the Bi-LSTM, numpy-array of shape (m, Tx, 2*n_a)\n",
    "    s_prev -- previous hidden state of the (post-attention) LSTM, numpy-array of shape (m, n_s)\n",
    "    \n",
    "    Returns:\n",
    "    context -- context vector, input of the next (post-attetion) LSTM cell\n",
    "    \"\"\"\n",
    "    \n",
    "    ### START CODE HERE ###\n",
    "    # Use repeator to repeat s_prev to be of shape (m, Tx, n_s) so that you can concatenate it with all hidden states \"a\" (≈ 1 line)\n",
    "    s_prev = repeator(s_prev)\n",
    "    # Use concatenator to concatenate a and s_prev on the last axis (≈ 1 line)\n",
    "    concat = concatenator([a,s_prev])\n",
    "    # Use densor1 to propagate concat through a small fully-connected neural network to compute the \"intermediate energies\" variable e. (≈1 lines)\n",
    "    e = densor1(concat)\n",
    "    # Use densor2 to propagate e through a small fully-connected neural network to compute the \"energies\" variable energies. (≈1 lines)\n",
    "    energies = densor2(e)\n",
    "    # Use \"activator\" on \"energies\" to compute the attention weights \"alphas\" (≈ 1 line)\n",
    "    alphas = activator(energies)\n",
    "    # Use dotor together with \"alphas\" and \"a\" to compute the context vector to be given to the next (post-attention) LSTM-cell (≈ 1 line)\n",
    "    context = dotor([alphas,a])\n",
    "    ### END CODE HERE ###\n",
    "    \n",
    "    return context\n"
   ]
  },
  {
   "cell_type": "markdown",
   "metadata": {},
   "source": [
    "You will be able to check the expected output of `one_step_attention()` after you've coded the `model()` function."
   ]
  },
  {
   "cell_type": "markdown",
   "metadata": {},
   "source": [
    "**Exercise**: Implement `model()` as explained in figure 2 and the text above. Again, we have defined global layers that will share weights to be used in `model()`."
   ]
  },
  {
   "cell_type": "code",
   "execution_count": 27,
   "metadata": {},
   "outputs": [],
   "source": [
    "n_a = 32\n",
    "n_s = 64\n",
    "post_activation_LSTM_cell = LSTM(n_s, return_state = True)\n",
    "output_layer = Dense(len(machine_vocab), activation=softmax)"
   ]
  },
  {
   "cell_type": "markdown",
   "metadata": {},
   "source": [
    "Now you can use these layers $T_y$ times in a `for` loop to generate the outputs, and their parameters will not be reinitialized. You will have to carry out the following steps: \n",
    "\n",
    "1. Propagate the input into a [Bidirectional](https://keras.io/layers/wrappers/#bidirectional) [LSTM](https://keras.io/layers/recurrent/#lstm)\n",
    "2. Iterate for $t = 0, \\dots, T_y-1$: \n",
    "    1. Call `one_step_attention()` on $[\\alpha^{<t,1>},\\alpha^{<t,2>}, ..., \\alpha^{<t,T_x>}]$ and $s^{<t-1>}$ to get the context vector $context^{<t>}$.\n",
    "    2. Give $context^{<t>}$ to the post-attention LSTM cell. Remember pass in the previous hidden-state $s^{\\langle t-1\\rangle}$ and cell-states $c^{\\langle t-1\\rangle}$ of this LSTM using `initial_state= [previous hidden state, previous cell state]`. Get back the new hidden state $s^{<t>}$ and the new cell state $c^{<t>}$.\n",
    "    3. Apply a softmax layer to $s^{<t>}$, get the output. \n",
    "    4. Save the output by adding it to the list of outputs.\n",
    "\n",
    "3. Create your Keras model instance, it should have three inputs (\"inputs\", $s^{<0>}$ and $c^{<0>}$) and output the list of \"outputs\"."
   ]
  },
  {
   "cell_type": "code",
   "execution_count": 28,
   "metadata": {},
   "outputs": [],
   "source": [
    "# GRADED FUNCTION: model\n",
    "\n",
    "def model(Tx, Ty, n_a, n_s, human_vocab_size, machine_vocab_size):\n",
    "    \"\"\"\n",
    "    Arguments:\n",
    "    Tx -- length of the input sequence\n",
    "    Ty -- length of the output sequence\n",
    "    n_a -- hidden state size of the Bi-LSTM\n",
    "    n_s -- hidden state size of the post-attention LSTM\n",
    "    human_vocab_size -- size of the python dictionary \"human_vocab\"\n",
    "    machine_vocab_size -- size of the python dictionary \"machine_vocab\"\n",
    "\n",
    "    Returns:\n",
    "    model -- Keras model instance\n",
    "    \"\"\"\n",
    "    \n",
    "    # Define the inputs of your model with a shape (Tx,)\n",
    "    # Define s0 and c0, initial hidden state for the decoder LSTM of shape (n_s,)\n",
    "    X = Input(shape=(Tx, human_vocab_size))\n",
    "    s0 = Input(shape=(n_s,), name='s0')\n",
    "    c0 = Input(shape=(n_s,), name='c0')\n",
    "    s = s0\n",
    "    c = c0\n",
    "    \n",
    "    # Initialize empty list of outputs\n",
    "    outputs = []\n",
    "    \n",
    "    ### START CODE HERE ###\n",
    "    \n",
    "    # Step 1: Define your pre-attention Bi-LSTM. Remember to use return_sequences=True. (≈ 1 line)\n",
    "    a = Bidirectional(LSTM(n_a, return_sequences=True))(X)\n",
    "    \n",
    "    # Step 2: Iterate for Ty steps\n",
    "    for t in range(Ty):\n",
    "    \n",
    "        # Step 2.A: Perform one step of the attention mechanism to get back the context vector at step t (≈ 1 line)\n",
    "        context = one_step_attention(a, s)\n",
    "        \n",
    "        # Step 2.B: Apply the post-attention LSTM cell to the \"context\" vector.\n",
    "        # Don't forget to pass: initial_state = [hidden state, cell state] (≈ 1 line)\n",
    "        s, _, c = post_activation_LSTM_cell(context,initial_state=[s,c])\n",
    "        \n",
    "        # Step 2.C: Apply Dense layer to the hidden state output of the post-attention LSTM (≈ 1 line)\n",
    "        out = output_layer(s)\n",
    "        \n",
    "        # Step 2.D: Append \"out\" to the \"outputs\" list (≈ 1 line)\n",
    "        outputs.append(out)\n",
    "    \n",
    "    # Step 3: Create model instance taking three inputs and returning the list of outputs. (≈ 1 line)\n",
    "    model = Model(inputs=[X,s0,c0],outputs=outputs)\n",
    "    \n",
    "    ### END CODE HERE ###\n",
    "    \n",
    "    return model"
   ]
  },
  {
   "cell_type": "markdown",
   "metadata": {},
   "source": [
    "Run the following cell to create your model."
   ]
  },
  {
   "cell_type": "code",
   "execution_count": 29,
   "metadata": {},
   "outputs": [],
   "source": [
    "model = model(Tx, Ty, n_a, n_s, len(human_vocab), len(machine_vocab))"
   ]
  },
  {
   "cell_type": "markdown",
   "metadata": {},
   "source": [
    "Let's get a summary of the model to check if it matches the expected output."
   ]
  },
  {
   "cell_type": "code",
   "execution_count": 30,
   "metadata": {},
   "outputs": [
    {
     "name": "stdout",
     "output_type": "stream",
     "text": [
      "__________________________________________________________________________________________________\n",
      "Layer (type)                    Output Shape         Param #     Connected to                     \n",
      "==================================================================================================\n",
      "input_3 (InputLayer)            (None, 30, 37)       0                                            \n",
      "__________________________________________________________________________________________________\n",
      "s0 (InputLayer)                 (None, 64)           0                                            \n",
      "__________________________________________________________________________________________________\n",
      "bidirectional_3 (Bidirectional) (None, 30, 64)       17920       input_3[0][0]                    \n",
      "__________________________________________________________________________________________________\n",
      "repeat_vector_1 (RepeatVector)  (None, 30, 64)       0           s0[0][0]                         \n",
      "                                                                 lstm_4[0][0]                     \n",
      "                                                                 lstm_4[1][0]                     \n",
      "                                                                 lstm_4[2][0]                     \n",
      "                                                                 lstm_4[3][0]                     \n",
      "                                                                 lstm_4[4][0]                     \n",
      "                                                                 lstm_4[5][0]                     \n",
      "                                                                 lstm_4[6][0]                     \n",
      "                                                                 lstm_4[7][0]                     \n",
      "                                                                 lstm_4[8][0]                     \n",
      "__________________________________________________________________________________________________\n",
      "concatenate_1 (Concatenate)     (None, 30, 128)      0           bidirectional_3[0][0]            \n",
      "                                                                 repeat_vector_1[20][0]           \n",
      "                                                                 bidirectional_3[0][0]            \n",
      "                                                                 repeat_vector_1[21][0]           \n",
      "                                                                 bidirectional_3[0][0]            \n",
      "                                                                 repeat_vector_1[22][0]           \n",
      "                                                                 bidirectional_3[0][0]            \n",
      "                                                                 repeat_vector_1[23][0]           \n",
      "                                                                 bidirectional_3[0][0]            \n",
      "                                                                 repeat_vector_1[24][0]           \n",
      "                                                                 bidirectional_3[0][0]            \n",
      "                                                                 repeat_vector_1[25][0]           \n",
      "                                                                 bidirectional_3[0][0]            \n",
      "                                                                 repeat_vector_1[26][0]           \n",
      "                                                                 bidirectional_3[0][0]            \n",
      "                                                                 repeat_vector_1[27][0]           \n",
      "                                                                 bidirectional_3[0][0]            \n",
      "                                                                 repeat_vector_1[28][0]           \n",
      "                                                                 bidirectional_3[0][0]            \n",
      "                                                                 repeat_vector_1[29][0]           \n",
      "__________________________________________________________________________________________________\n",
      "dense_1 (Dense)                 (None, 30, 10)       1290        concatenate_1[20][0]             \n",
      "                                                                 concatenate_1[21][0]             \n",
      "                                                                 concatenate_1[22][0]             \n",
      "                                                                 concatenate_1[23][0]             \n",
      "                                                                 concatenate_1[24][0]             \n",
      "                                                                 concatenate_1[25][0]             \n",
      "                                                                 concatenate_1[26][0]             \n",
      "                                                                 concatenate_1[27][0]             \n",
      "                                                                 concatenate_1[28][0]             \n",
      "                                                                 concatenate_1[29][0]             \n",
      "__________________________________________________________________________________________________\n",
      "dense_2 (Dense)                 (None, 30, 1)        11          dense_1[20][0]                   \n",
      "                                                                 dense_1[21][0]                   \n",
      "                                                                 dense_1[22][0]                   \n",
      "                                                                 dense_1[23][0]                   \n",
      "                                                                 dense_1[24][0]                   \n",
      "                                                                 dense_1[25][0]                   \n",
      "                                                                 dense_1[26][0]                   \n",
      "                                                                 dense_1[27][0]                   \n",
      "                                                                 dense_1[28][0]                   \n",
      "                                                                 dense_1[29][0]                   \n",
      "__________________________________________________________________________________________________\n",
      "attention_weights (Activation)  (None, 30, 1)        0           dense_2[20][0]                   \n",
      "                                                                 dense_2[21][0]                   \n",
      "                                                                 dense_2[22][0]                   \n",
      "                                                                 dense_2[23][0]                   \n",
      "                                                                 dense_2[24][0]                   \n",
      "                                                                 dense_2[25][0]                   \n",
      "                                                                 dense_2[26][0]                   \n",
      "                                                                 dense_2[27][0]                   \n",
      "                                                                 dense_2[28][0]                   \n",
      "                                                                 dense_2[29][0]                   \n",
      "__________________________________________________________________________________________________\n",
      "dot_1 (Dot)                     (None, 1, 64)        0           attention_weights[20][0]         \n",
      "                                                                 bidirectional_3[0][0]            \n",
      "                                                                 attention_weights[21][0]         \n",
      "                                                                 bidirectional_3[0][0]            \n",
      "                                                                 attention_weights[22][0]         \n",
      "                                                                 bidirectional_3[0][0]            \n",
      "                                                                 attention_weights[23][0]         \n",
      "                                                                 bidirectional_3[0][0]            \n"
     ]
    },
    {
     "name": "stdout",
     "output_type": "stream",
     "text": [
      "                                                                 attention_weights[24][0]         \n",
      "                                                                 bidirectional_3[0][0]            \n",
      "                                                                 attention_weights[25][0]         \n",
      "                                                                 bidirectional_3[0][0]            \n",
      "                                                                 attention_weights[26][0]         \n",
      "                                                                 bidirectional_3[0][0]            \n",
      "                                                                 attention_weights[27][0]         \n",
      "                                                                 bidirectional_3[0][0]            \n",
      "                                                                 attention_weights[28][0]         \n",
      "                                                                 bidirectional_3[0][0]            \n",
      "                                                                 attention_weights[29][0]         \n",
      "                                                                 bidirectional_3[0][0]            \n",
      "__________________________________________________________________________________________________\n",
      "c0 (InputLayer)                 (None, 64)           0                                            \n",
      "__________________________________________________________________________________________________\n",
      "lstm_4 (LSTM)                   [(None, 64), (None,  33024       dot_1[20][0]                     \n",
      "                                                                 s0[0][0]                         \n",
      "                                                                 c0[0][0]                         \n",
      "                                                                 dot_1[21][0]                     \n",
      "                                                                 lstm_4[0][0]                     \n",
      "                                                                 lstm_4[0][2]                     \n",
      "                                                                 dot_1[22][0]                     \n",
      "                                                                 lstm_4[1][0]                     \n",
      "                                                                 lstm_4[1][2]                     \n",
      "                                                                 dot_1[23][0]                     \n",
      "                                                                 lstm_4[2][0]                     \n",
      "                                                                 lstm_4[2][2]                     \n",
      "                                                                 dot_1[24][0]                     \n",
      "                                                                 lstm_4[3][0]                     \n",
      "                                                                 lstm_4[3][2]                     \n",
      "                                                                 dot_1[25][0]                     \n",
      "                                                                 lstm_4[4][0]                     \n",
      "                                                                 lstm_4[4][2]                     \n",
      "                                                                 dot_1[26][0]                     \n",
      "                                                                 lstm_4[5][0]                     \n",
      "                                                                 lstm_4[5][2]                     \n",
      "                                                                 dot_1[27][0]                     \n",
      "                                                                 lstm_4[6][0]                     \n",
      "                                                                 lstm_4[6][2]                     \n",
      "                                                                 dot_1[28][0]                     \n",
      "                                                                 lstm_4[7][0]                     \n",
      "                                                                 lstm_4[7][2]                     \n",
      "                                                                 dot_1[29][0]                     \n",
      "                                                                 lstm_4[8][0]                     \n",
      "                                                                 lstm_4[8][2]                     \n",
      "__________________________________________________________________________________________________\n",
      "dense_4 (Dense)                 (None, 11)           715         lstm_4[0][0]                     \n",
      "                                                                 lstm_4[1][0]                     \n",
      "                                                                 lstm_4[2][0]                     \n",
      "                                                                 lstm_4[3][0]                     \n",
      "                                                                 lstm_4[4][0]                     \n",
      "                                                                 lstm_4[5][0]                     \n",
      "                                                                 lstm_4[6][0]                     \n",
      "                                                                 lstm_4[7][0]                     \n",
      "                                                                 lstm_4[8][0]                     \n",
      "                                                                 lstm_4[9][0]                     \n",
      "==================================================================================================\n",
      "Total params: 52,960\n",
      "Trainable params: 52,960\n",
      "Non-trainable params: 0\n",
      "__________________________________________________________________________________________________\n"
     ]
    }
   ],
   "source": [
    "model.summary()"
   ]
  },
  {
   "cell_type": "markdown",
   "metadata": {},
   "source": [
    "**Expected Output**:\n",
    "\n",
    "Here is the summary you should see\n",
    "<table>\n",
    "    <tr>\n",
    "        <td>\n",
    "            **Total params:**\n",
    "        </td>\n",
    "        <td>\n",
    "         185,484\n",
    "        </td>\n",
    "    </tr>\n",
    "        <tr>\n",
    "        <td>\n",
    "            **Trainable params:**\n",
    "        </td>\n",
    "        <td>\n",
    "         185,484\n",
    "        </td>\n",
    "    </tr>\n",
    "            <tr>\n",
    "        <td>\n",
    "            **Non-trainable params:**\n",
    "        </td>\n",
    "        <td>\n",
    "         0\n",
    "        </td>\n",
    "    </tr>\n",
    "                    <tr>\n",
    "        <td>\n",
    "            **bidirectional_1's output shape **\n",
    "        </td>\n",
    "        <td>\n",
    "         (None, 30, 128)  \n",
    "        </td>\n",
    "    </tr>\n",
    "    <tr>\n",
    "        <td>\n",
    "            **repeat_vector_1's output shape **\n",
    "        </td>\n",
    "        <td>\n",
    "         (None, 30, 128)  \n",
    "        </td>\n",
    "    </tr>\n",
    "                <tr>\n",
    "        <td>\n",
    "            **concatenate_1's output shape **\n",
    "        </td>\n",
    "        <td>\n",
    "         (None, 30, 256) \n",
    "        </td>\n",
    "    </tr>\n",
    "            <tr>\n",
    "        <td>\n",
    "            **attention_weights's output shape **\n",
    "        </td>\n",
    "        <td>\n",
    "         (None, 30, 1)  \n",
    "        </td>\n",
    "    </tr>\n",
    "        <tr>\n",
    "        <td>\n",
    "            **dot_1's output shape **\n",
    "        </td>\n",
    "        <td>\n",
    "         (None, 1, 128) \n",
    "        </td>\n",
    "    </tr>\n",
    "           <tr>\n",
    "        <td>\n",
    "            **dense_2's output shape **\n",
    "        </td>\n",
    "        <td>\n",
    "         (None, 11) \n",
    "        </td>\n",
    "    </tr>\n",
    "</table>\n"
   ]
  },
  {
   "cell_type": "markdown",
   "metadata": {},
   "source": [
    "As usual, after creating your model in Keras, you need to compile it and define what loss, optimizer and metrics your are want to use. Compile your model using `categorical_crossentropy` loss, a custom [Adam](https://keras.io/optimizers/#adam) [optimizer](https://keras.io/optimizers/#usage-of-optimizers) (`learning rate = 0.005`, $\\beta_1 = 0.9$, $\\beta_2 = 0.999$, `decay = 0.01`)  and `['accuracy']` metrics:"
   ]
  },
  {
   "cell_type": "code",
   "execution_count": 36,
   "metadata": {},
   "outputs": [],
   "source": [
    "### START CODE HERE ### (≈2 lines)\n",
    "opt = Adam(lr=0.0005, beta_1=0.9, beta_2=0.999, decay=0.01)\n",
    "model.compile(loss = 'categorical_crossentropy',optimizer=opt, metrics = ['accuracy'])\n",
    "### END CODE HERE ###"
   ]
  },
  {
   "cell_type": "markdown",
   "metadata": {},
   "source": [
    "The last step is to define all your inputs and outputs to fit the model:\n",
    "- You already have X of shape $(m = 10000, T_x = 30)$ containing the training examples.\n",
    "- You need to create `s0` and `c0` to initialize your `post_activation_LSTM_cell` with 0s.\n",
    "- Given the `model()` you coded, you need the \"outputs\" to be a list of 11 elements of shape (m, T_y). So that: `outputs[i][0], ..., outputs[i][Ty]` represent the true labels (characters) corresponding to the $i^{th}$ training example (`X[i]`). More generally, `outputs[i][j]` is the true label of the $j^{th}$ character in the $i^{th}$ training example."
   ]
  },
  {
   "cell_type": "code",
   "execution_count": 37,
   "metadata": {},
   "outputs": [],
   "source": [
    "s0 = np.zeros((m, n_s))\n",
    "c0 = np.zeros((m, n_s))\n",
    "outputs = list(Yoh.swapaxes(0,1))"
   ]
  },
  {
   "cell_type": "markdown",
   "metadata": {},
   "source": [
    "Let's now fit the model and run it for one epoch."
   ]
  },
  {
   "cell_type": "code",
   "execution_count": 38,
   "metadata": {},
   "outputs": [
    {
     "name": "stdout",
     "output_type": "stream",
     "text": [
      "Epoch 1/1\n"
     ]
    },
    {
     "name": "stdout",
     "output_type": "stream",
     "text": [
      " 2900/10000 [=======>......................] - ETA: 13:44 - loss: 0.0027 - dense_4_loss: 2.4267e-04 - dense_4_acc: 1.0000 - dense_4_acc_1: 1.0000 - dense_4_acc_2: 1.0000 - dense_4_acc_3: 1.0000 - dense_4_acc_4: 1.0000 - dense_4_acc_5: 1.0000 - dense_4_acc_6: 1.0000 - dense_4_acc_7: 1.0000 - dense_4_acc_8: 1.0000 - dense_4_acc_9: 1.000 - ETA: 6:51 - loss: 0.0194 - dense_4_loss: 0.0013 - dense_4_acc: 1.0000 - dense_4_acc_1: 1.0000 - dense_4_acc_2: 1.0000 - dense_4_acc_3: 1.0000 - dense_4_acc_4: 1.0000 - dense_4_acc_5: 1.0000 - dense_4_acc_6: 1.0000 - dense_4_acc_7: 1.0000 - dense_4_acc_8: 0.9950 - dense_4_acc_9: 1.0000    - ETA: 4:33 - loss: 0.0398 - dense_4_loss: 9.9958e-04 - dense_4_acc: 1.0000 - dense_4_acc_1: 1.0000 - dense_4_acc_2: 1.0000 - dense_4_acc_3: 1.0000 - dense_4_acc_4: 1.0000 - dense_4_acc_5: 1.0000 - dense_4_acc_6: 1.0000 - dense_4_acc_7: 1.0000 - dense_4_acc_8: 0.9933 - dense_4_acc_9: 1.00 - ETA: 3:24 - loss: 0.0427 - dense_4_loss: 0.0036 - dense_4_acc: 1.0000 - dense_4_acc_1: 1.0000 - dense_4_acc_2: 1.0000 - dense_4_acc_3: 1.0000 - dense_4_acc_4: 1.0000 - dense_4_acc_5: 0.9975 - dense_4_acc_6: 1.0000 - dense_4_acc_7: 1.0000 - dense_4_acc_8: 0.9950 - dense_4_acc_9: 0.9975   - ETA: 2:43 - loss: 0.0464 - dense_4_loss: 0.0029 - dense_4_acc: 1.0000 - dense_4_acc_1: 1.0000 - dense_4_acc_2: 1.0000 - dense_4_acc_3: 1.0000 - dense_4_acc_4: 1.0000 - dense_4_acc_5: 0.9980 - dense_4_acc_6: 1.0000 - dense_4_acc_7: 1.0000 - dense_4_acc_8: 0.9940 - dense_4_acc_9: 0.99 - ETA: 2:15 - loss: 0.0390 - dense_4_loss: 0.0025 - dense_4_acc: 1.0000 - dense_4_acc_1: 1.0000 - dense_4_acc_2: 1.0000 - dense_4_acc_3: 1.0000 - dense_4_acc_4: 1.0000 - dense_4_acc_5: 0.9983 - dense_4_acc_6: 1.0000 - dense_4_acc_7: 1.0000 - dense_4_acc_8: 0.9950 - dense_4_acc_9: 0.99 - ETA: 1:55 - loss: 0.0340 - dense_4_loss: 0.0022 - dense_4_acc: 1.0000 - dense_4_acc_1: 1.0000 - dense_4_acc_2: 1.0000 - dense_4_acc_3: 1.0000 - dense_4_acc_4: 1.0000 - dense_4_acc_5: 0.9986 - dense_4_acc_6: 1.0000 - dense_4_acc_7: 1.0000 - dense_4_acc_8: 0.9957 - dense_4_acc_9: 0.99 - ETA: 1:41 - loss: 0.0333 - dense_4_loss: 0.0041 - dense_4_acc: 1.0000 - dense_4_acc_1: 1.0000 - dense_4_acc_2: 1.0000 - dense_4_acc_3: 1.0000 - dense_4_acc_4: 1.0000 - dense_4_acc_5: 0.9988 - dense_4_acc_6: 1.0000 - dense_4_acc_7: 1.0000 - dense_4_acc_8: 0.9963 - dense_4_acc_9: 0.99 - ETA: 1:29 - loss: 0.0308 - dense_4_loss: 0.0037 - dense_4_acc: 1.0000 - dense_4_acc_1: 1.0000 - dense_4_acc_2: 1.0000 - dense_4_acc_3: 1.0000 - dense_4_acc_4: 1.0000 - dense_4_acc_5: 0.9989 - dense_4_acc_6: 1.0000 - dense_4_acc_7: 1.0000 - dense_4_acc_8: 0.9967 - dense_4_acc_9: 0.99 - ETA: 1:20 - loss: 0.0306 - dense_4_loss: 0.0034 - dense_4_acc: 1.0000 - dense_4_acc_1: 1.0000 - dense_4_acc_2: 1.0000 - dense_4_acc_3: 1.0000 - dense_4_acc_4: 1.0000 - dense_4_acc_5: 0.9990 - dense_4_acc_6: 0.9990 - dense_4_acc_7: 1.0000 - dense_4_acc_8: 0.9970 - dense_4_acc_9: 0.99 - ETA: 1:12 - loss: 0.0280 - dense_4_loss: 0.0031 - dense_4_acc: 1.0000 - dense_4_acc_1: 1.0000 - dense_4_acc_2: 1.0000 - dense_4_acc_3: 1.0000 - dense_4_acc_4: 1.0000 - dense_4_acc_5: 0.9991 - dense_4_acc_6: 0.9991 - dense_4_acc_7: 1.0000 - dense_4_acc_8: 0.9973 - dense_4_acc_9: 0.99 - ETA: 1:06 - loss: 0.0258 - dense_4_loss: 0.0029 - dense_4_acc: 1.0000 - dense_4_acc_1: 1.0000 - dense_4_acc_2: 1.0000 - dense_4_acc_3: 1.0000 - dense_4_acc_4: 1.0000 - dense_4_acc_5: 0.9992 - dense_4_acc_6: 0.9992 - dense_4_acc_7: 1.0000 - dense_4_acc_8: 0.9975 - dense_4_acc_9: 0.99 - ETA: 1:01 - loss: 0.0285 - dense_4_loss: 0.0033 - dense_4_acc: 1.0000 - dense_4_acc_1: 1.0000 - dense_4_acc_2: 1.0000 - dense_4_acc_3: 1.0000 - dense_4_acc_4: 1.0000 - dense_4_acc_5: 0.9992 - dense_4_acc_6: 0.9992 - dense_4_acc_7: 1.0000 - dense_4_acc_8: 0.9969 - dense_4_acc_9: 0.99 - ETA: 56s - loss: 0.0279 - dense_4_loss: 0.0031 - dense_4_acc: 1.0000 - dense_4_acc_1: 1.0000 - dense_4_acc_2: 1.0000 - dense_4_acc_3: 1.0000 - dense_4_acc_4: 1.0000 - dense_4_acc_5: 0.9986 - dense_4_acc_6: 0.9993 - dense_4_acc_7: 1.0000 - dense_4_acc_8: 0.9971 - dense_4_acc_9: 0.9979 - ETA: 52s - loss: 0.0263 - dense_4_loss: 0.0029 - dense_4_acc: 1.0000 - dense_4_acc_1: 1.0000 - dense_4_acc_2: 1.0000 - dense_4_acc_3: 1.0000 - dense_4_acc_4: 1.0000 - dense_4_acc_5: 0.9987 - dense_4_acc_6: 0.9993 - dense_4_acc_7: 1.0000 - dense_4_acc_8: 0.9973 - dense_4_acc_9: 0.998 - ETA: 49s - loss: 0.0249 - dense_4_loss: 0.0027 - dense_4_acc: 1.0000 - dense_4_acc_1: 1.0000 - dense_4_acc_2: 1.0000 - dense_4_acc_3: 1.0000 - dense_4_acc_4: 1.0000 - dense_4_acc_5: 0.9988 - dense_4_acc_6: 0.9994 - dense_4_acc_7: 1.0000 - dense_4_acc_8: 0.9975 - dense_4_acc_9: 0.998 - ETA: 45s - loss: 0.0242 - dense_4_loss: 0.0026 - dense_4_acc: 1.0000 - dense_4_acc_1: 1.0000 - dense_4_acc_2: 1.0000 - dense_4_acc_3: 1.0000 - dense_4_acc_4: 1.0000 - dense_4_acc_5: 0.9988 - dense_4_acc_6: 0.9994 - dense_4_acc_7: 1.0000 - dense_4_acc_8: 0.9976 - dense_4_acc_9: 0.998 - ETA: 43s - loss: 0.0242 - dense_4_loss: 0.0025 - dense_4_acc: 1.0000 - dense_4_acc_1: 1.0000 - dense_4_acc_2: 1.0000 - dense_4_acc_3: 1.0000 - dense_4_acc_4: 1.0000 - dense_4_acc_5: 0.9983 - dense_4_acc_6: 0.9994 - dense_4_acc_7: 1.0000 - dense_4_acc_8: 0.9972 - dense_4_acc_9: 0.998 - ETA: 40s - loss: 0.0232 - dense_4_loss: 0.0024 - dense_4_acc: 1.0000 - dense_4_acc_1: 1.0000 - dense_4_acc_2: 1.0000 - dense_4_acc_3: 1.0000 - dense_4_acc_4: 1.0000 - dense_4_acc_5: 0.9984 - dense_4_acc_6: 0.9995 - dense_4_acc_7: 1.0000 - dense_4_acc_8: 0.9974 - dense_4_acc_9: 0.998 - ETA: 38s - loss: 0.0243 - dense_4_loss: 0.0023 - dense_4_acc: 1.0000 - dense_4_acc_1: 1.0000 - dense_4_acc_2: 1.0000 - dense_4_acc_3: 1.0000 - dense_4_acc_4: 1.0000 - dense_4_acc_5: 0.9975 - dense_4_acc_6: 0.9995 - dense_4_acc_7: 1.0000 - dense_4_acc_8: 0.9975 - dense_4_acc_9: 0.998 - ETA: 36s - loss: 0.0233 - dense_4_loss: 0.0022 - dense_4_acc: 1.0000 - dense_4_acc_1: 1.0000 - dense_4_acc_2: 1.0000 - dense_4_acc_3: 1.0000 - dense_4_acc_4: 1.0000 - dense_4_acc_5: 0.9976 - dense_4_acc_6: 0.9995 - dense_4_acc_7: 1.0000 - dense_4_acc_8: 0.9976 - dense_4_acc_9: 0.998 - ETA: 34s - loss: 0.0234 - dense_4_loss: 0.0021 - dense_4_acc: 1.0000 - dense_4_acc_1: 1.0000 - dense_4_acc_2: 1.0000 - dense_4_acc_3: 1.0000 - dense_4_acc_4: 1.0000 - dense_4_acc_5: 0.9977 - dense_4_acc_6: 0.9995 - dense_4_acc_7: 1.0000 - dense_4_acc_8: 0.9973 - dense_4_acc_9: 0.998 - ETA: 32s - loss: 0.0226 - dense_4_loss: 0.0021 - dense_4_acc: 1.0000 - dense_4_acc_1: 1.0000 - dense_4_acc_2: 1.0000 - dense_4_acc_3: 1.0000 - dense_4_acc_4: 1.0000 - dense_4_acc_5: 0.9978 - dense_4_acc_6: 0.9996 - dense_4_acc_7: 1.0000 - dense_4_acc_8: 0.9974 - dense_4_acc_9: 0.998 - ETA: 31s - loss: 0.0219 - dense_4_loss: 0.0020 - dense_4_acc: 1.0000 - dense_4_acc_1: 1.0000 - dense_4_acc_2: 1.0000 - dense_4_acc_3: 1.0000 - dense_4_acc_4: 1.0000 - dense_4_acc_5: 0.9979 - dense_4_acc_6: 0.9996 - dense_4_acc_7: 1.0000 - dense_4_acc_8: 0.9975 - dense_4_acc_9: 0.998 - ETA: 29s - loss: 0.0215 - dense_4_loss: 0.0020 - dense_4_acc: 1.0000 - dense_4_acc_1: 1.0000 - dense_4_acc_2: 1.0000 - dense_4_acc_3: 1.0000 - dense_4_acc_4: 1.0000 - dense_4_acc_5: 0.9980 - dense_4_acc_6: 0.9996 - dense_4_acc_7: 1.0000 - dense_4_acc_8: 0.9976 - dense_4_acc_9: 0.998 - ETA: 28s - loss: 0.0213 - dense_4_loss: 0.0019 - dense_4_acc: 1.0000 - dense_4_acc_1: 1.0000 - dense_4_acc_2: 1.0000 - dense_4_acc_3: 1.0000 - dense_4_acc_4: 1.0000 - dense_4_acc_5: 0.9977 - dense_4_acc_6: 0.9996 - dense_4_acc_7: 1.0000 - dense_4_acc_8: 0.9977 - dense_4_acc_9: 0.998 - ETA: 27s - loss: 0.0215 - dense_4_loss: 0.0018 - dense_4_acc: 1.0000 - dense_4_acc_1: 1.0000 - dense_4_acc_2: 1.0000 - dense_4_acc_3: 1.0000 - dense_4_acc_4: 1.0000 - dense_4_acc_5: 0.9974 - dense_4_acc_6: 0.9996 - dense_4_acc_7: 1.0000 - dense_4_acc_8: 0.9978 - dense_4_acc_9: 0.998 - ETA: 26s - loss: 0.0212 - dense_4_loss: 0.0018 - dense_4_acc: 1.0000 - dense_4_acc_1: 1.0000 - dense_4_acc_2: 1.0000 - dense_4_acc_3: 1.0000 - dense_4_acc_4: 1.0000 - dense_4_acc_5: 0.9975 - dense_4_acc_6: 0.9996 - dense_4_acc_7: 1.0000 - dense_4_acc_8: 0.9979 - dense_4_acc_9: 0.998 - ETA: 25s - loss: 0.0206 - dense_4_loss: 0.0017 - dense_4_acc: 1.0000 - dense_4_acc_1: 1.0000 - dense_4_acc_2: 1.0000 - dense_4_acc_3: 1.0000 - dense_4_acc_4: 1.0000 - dense_4_acc_5: 0.9976 - dense_4_acc_6: 0.9997 - dense_4_acc_7: 1.0000 - dense_4_acc_8: 0.9979 - dense_4_acc_9: 0.9990\b\b\b\b\b\b\b\b\b\b\b\b\b\b\b\b\b\b\b\b\b\b\b\b\b\b\b\b\b\b\b\b\b\b\b\b\b\b\b\b\b\b\b\b\b\b\b\b\b\b\b\b\b\b\b\b\b\b\b\b\b\b\b\b\b\b\b\b\b\b\b\b\b\b\b\b\b\b\b\b\b\b\b\b\b\b\b\b\b\b\b\b\b\b\b\b\b\b\b\b\b\b\b\b\b\b\b\b\b\b\b\b\b\b\b\b\b\b\b\b\b\b\b\b\b\b\b\b\b\b\b\b\b\b\b\b\b\b\b\b\b\b\b\b\b\b\b\b\b\b\b\b\b\b\b\b\b\b\b\b\b\b\b\b\b\b\b\b\b\b\b\b\b\b\b\b\b\b\b\b\b\b\b\b\b\b\b\b\b\b\b\b\b\b\b\b\b\b\b\b\b\b\b\b\b\b\b\b\b\b\b\b\b\b\b\b\b\b\b\b\b\b\b\b\b\b\b\b\b\b\b\b\b\b\b\b\b\b\b\b\b\b\b\b\b\b\b\b\b\b\b\b\b\b\b\b\b\b\b\b\b\b\b\b\b\b\b\b\b\b\b\b\b\b\b\b\b\b\b\b\b\b\b\b\b\b\b\b\b\b\b\b\b\b\b\b\b\b\b\b\b\b\b\b\b\b\b\b\b\b\b\b\b\b\b\b\b\b\b\b\b\b\b\b\b\b\b\b\b\b\b"
     ]
    },
    {
     "name": "stdout",
     "output_type": "stream",
     "text": [
      " 5800/10000 [================>.............] - ETA: 24s - loss: 0.0201 - dense_4_loss: 0.0017 - dense_4_acc: 1.0000 - dense_4_acc_1: 1.0000 - dense_4_acc_2: 1.0000 - dense_4_acc_3: 1.0000 - dense_4_acc_4: 1.0000 - dense_4_acc_5: 0.9977 - dense_4_acc_6: 0.9997 - dense_4_acc_7: 1.0000 - dense_4_acc_8: 0.9980 - dense_4_acc_9: 0.999 - ETA: 23s - loss: 0.0196 - dense_4_loss: 0.0016 - dense_4_acc: 1.0000 - dense_4_acc_1: 1.0000 - dense_4_acc_2: 1.0000 - dense_4_acc_3: 1.0000 - dense_4_acc_4: 1.0000 - dense_4_acc_5: 0.9977 - dense_4_acc_6: 0.9997 - dense_4_acc_7: 1.0000 - dense_4_acc_8: 0.9981 - dense_4_acc_9: 0.999 - ETA: 22s - loss: 0.0191 - dense_4_loss: 0.0016 - dense_4_acc: 1.0000 - dense_4_acc_1: 1.0000 - dense_4_acc_2: 1.0000 - dense_4_acc_3: 1.0000 - dense_4_acc_4: 1.0000 - dense_4_acc_5: 0.9978 - dense_4_acc_6: 0.9997 - dense_4_acc_7: 1.0000 - dense_4_acc_8: 0.9981 - dense_4_acc_9: 0.999 - ETA: 21s - loss: 0.0189 - dense_4_loss: 0.0016 - dense_4_acc: 1.0000 - dense_4_acc_1: 1.0000 - dense_4_acc_2: 1.0000 - dense_4_acc_3: 1.0000 - dense_4_acc_4: 1.0000 - dense_4_acc_5: 0.9979 - dense_4_acc_6: 0.9997 - dense_4_acc_7: 1.0000 - dense_4_acc_8: 0.9982 - dense_4_acc_9: 0.999 - ETA: 20s - loss: 0.0185 - dense_4_loss: 0.0015 - dense_4_acc: 1.0000 - dense_4_acc_1: 1.0000 - dense_4_acc_2: 1.0000 - dense_4_acc_3: 1.0000 - dense_4_acc_4: 1.0000 - dense_4_acc_5: 0.9979 - dense_4_acc_6: 0.9997 - dense_4_acc_7: 1.0000 - dense_4_acc_8: 0.9982 - dense_4_acc_9: 0.999 - ETA: 19s - loss: 0.0183 - dense_4_loss: 0.0015 - dense_4_acc: 1.0000 - dense_4_acc_1: 1.0000 - dense_4_acc_2: 1.0000 - dense_4_acc_3: 1.0000 - dense_4_acc_4: 1.0000 - dense_4_acc_5: 0.9980 - dense_4_acc_6: 0.9997 - dense_4_acc_7: 1.0000 - dense_4_acc_8: 0.9983 - dense_4_acc_9: 0.999 - ETA: 19s - loss: 0.0179 - dense_4_loss: 0.0015 - dense_4_acc: 1.0000 - dense_4_acc_1: 1.0000 - dense_4_acc_2: 1.0000 - dense_4_acc_3: 1.0000 - dense_4_acc_4: 1.0000 - dense_4_acc_5: 0.9981 - dense_4_acc_6: 0.9997 - dense_4_acc_7: 1.0000 - dense_4_acc_8: 0.9983 - dense_4_acc_9: 0.999 - ETA: 18s - loss: 0.0176 - dense_4_loss: 0.0014 - dense_4_acc: 1.0000 - dense_4_acc_1: 1.0000 - dense_4_acc_2: 1.0000 - dense_4_acc_3: 1.0000 - dense_4_acc_4: 1.0000 - dense_4_acc_5: 0.9981 - dense_4_acc_6: 0.9997 - dense_4_acc_7: 1.0000 - dense_4_acc_8: 0.9984 - dense_4_acc_9: 0.999 - ETA: 17s - loss: 0.0173 - dense_4_loss: 0.0014 - dense_4_acc: 1.0000 - dense_4_acc_1: 1.0000 - dense_4_acc_2: 1.0000 - dense_4_acc_3: 1.0000 - dense_4_acc_4: 1.0000 - dense_4_acc_5: 0.9982 - dense_4_acc_6: 0.9997 - dense_4_acc_7: 1.0000 - dense_4_acc_8: 0.9984 - dense_4_acc_9: 0.999 - ETA: 17s - loss: 0.0169 - dense_4_loss: 0.0014 - dense_4_acc: 1.0000 - dense_4_acc_1: 1.0000 - dense_4_acc_2: 1.0000 - dense_4_acc_3: 1.0000 - dense_4_acc_4: 1.0000 - dense_4_acc_5: 0.9982 - dense_4_acc_6: 0.9997 - dense_4_acc_7: 1.0000 - dense_4_acc_8: 0.9985 - dense_4_acc_9: 0.999 - ETA: 16s - loss: 0.0167 - dense_4_loss: 0.0014 - dense_4_acc: 1.0000 - dense_4_acc_1: 1.0000 - dense_4_acc_2: 1.0000 - dense_4_acc_3: 1.0000 - dense_4_acc_4: 1.0000 - dense_4_acc_5: 0.9983 - dense_4_acc_6: 0.9998 - dense_4_acc_7: 1.0000 - dense_4_acc_8: 0.9985 - dense_4_acc_9: 0.999 - ETA: 15s - loss: 0.0167 - dense_4_loss: 0.0013 - dense_4_acc: 1.0000 - dense_4_acc_1: 1.0000 - dense_4_acc_2: 1.0000 - dense_4_acc_3: 1.0000 - dense_4_acc_4: 1.0000 - dense_4_acc_5: 0.9980 - dense_4_acc_6: 0.9998 - dense_4_acc_7: 1.0000 - dense_4_acc_8: 0.9985 - dense_4_acc_9: 0.999 - ETA: 15s - loss: 0.0170 - dense_4_loss: 0.0013 - dense_4_acc: 1.0000 - dense_4_acc_1: 1.0000 - dense_4_acc_2: 1.0000 - dense_4_acc_3: 1.0000 - dense_4_acc_4: 1.0000 - dense_4_acc_5: 0.9981 - dense_4_acc_6: 0.9998 - dense_4_acc_7: 1.0000 - dense_4_acc_8: 0.9983 - dense_4_acc_9: 0.999 - ETA: 14s - loss: 0.0167 - dense_4_loss: 0.0013 - dense_4_acc: 1.0000 - dense_4_acc_1: 1.0000 - dense_4_acc_2: 1.0000 - dense_4_acc_3: 1.0000 - dense_4_acc_4: 1.0000 - dense_4_acc_5: 0.9981 - dense_4_acc_6: 0.9998 - dense_4_acc_7: 1.0000 - dense_4_acc_8: 0.9984 - dense_4_acc_9: 0.999 - ETA: 14s - loss: 0.0164 - dense_4_loss: 0.0013 - dense_4_acc: 1.0000 - dense_4_acc_1: 1.0000 - dense_4_acc_2: 1.0000 - dense_4_acc_3: 1.0000 - dense_4_acc_4: 1.0000 - dense_4_acc_5: 0.9982 - dense_4_acc_6: 0.9998 - dense_4_acc_7: 1.0000 - dense_4_acc_8: 0.9984 - dense_4_acc_9: 0.999 - ETA: 13s - loss: 0.0162 - dense_4_loss: 0.0013 - dense_4_acc: 1.0000 - dense_4_acc_1: 1.0000 - dense_4_acc_2: 1.0000 - dense_4_acc_3: 1.0000 - dense_4_acc_4: 1.0000 - dense_4_acc_5: 0.9982 - dense_4_acc_6: 0.9998 - dense_4_acc_7: 1.0000 - dense_4_acc_8: 0.9984 - dense_4_acc_9: 0.999 - ETA: 13s - loss: 0.0160 - dense_4_loss: 0.0013 - dense_4_acc: 1.0000 - dense_4_acc_1: 1.0000 - dense_4_acc_2: 1.0000 - dense_4_acc_3: 1.0000 - dense_4_acc_4: 1.0000 - dense_4_acc_5: 0.9983 - dense_4_acc_6: 0.9998 - dense_4_acc_7: 1.0000 - dense_4_acc_8: 0.9985 - dense_4_acc_9: 0.999 - ETA: 12s - loss: 0.0157 - dense_4_loss: 0.0012 - dense_4_acc: 1.0000 - dense_4_acc_1: 1.0000 - dense_4_acc_2: 1.0000 - dense_4_acc_3: 1.0000 - dense_4_acc_4: 1.0000 - dense_4_acc_5: 0.9983 - dense_4_acc_6: 0.9998 - dense_4_acc_7: 1.0000 - dense_4_acc_8: 0.9985 - dense_4_acc_9: 0.999 - ETA: 12s - loss: 0.0155 - dense_4_loss: 0.0012 - dense_4_acc: 1.0000 - dense_4_acc_1: 1.0000 - dense_4_acc_2: 1.0000 - dense_4_acc_3: 1.0000 - dense_4_acc_4: 1.0000 - dense_4_acc_5: 0.9983 - dense_4_acc_6: 0.9998 - dense_4_acc_7: 1.0000 - dense_4_acc_8: 0.9985 - dense_4_acc_9: 0.999 - ETA: 12s - loss: 0.0153 - dense_4_loss: 0.0012 - dense_4_acc: 1.0000 - dense_4_acc_1: 1.0000 - dense_4_acc_2: 1.0000 - dense_4_acc_3: 1.0000 - dense_4_acc_4: 1.0000 - dense_4_acc_5: 0.9984 - dense_4_acc_6: 0.9998 - dense_4_acc_7: 1.0000 - dense_4_acc_8: 0.9986 - dense_4_acc_9: 0.999 - ETA: 11s - loss: 0.0155 - dense_4_loss: 0.0012 - dense_4_acc: 1.0000 - dense_4_acc_1: 1.0000 - dense_4_acc_2: 1.0000 - dense_4_acc_3: 1.0000 - dense_4_acc_4: 1.0000 - dense_4_acc_5: 0.9984 - dense_4_acc_6: 0.9998 - dense_4_acc_7: 1.0000 - dense_4_acc_8: 0.9984 - dense_4_acc_9: 0.999 - ETA: 11s - loss: 0.0157 - dense_4_loss: 0.0012 - dense_4_acc: 1.0000 - dense_4_acc_1: 1.0000 - dense_4_acc_2: 1.0000 - dense_4_acc_3: 1.0000 - dense_4_acc_4: 1.0000 - dense_4_acc_5: 0.9984 - dense_4_acc_6: 0.9996 - dense_4_acc_7: 1.0000 - dense_4_acc_8: 0.9984 - dense_4_acc_9: 0.999 - ETA: 10s - loss: 0.0155 - dense_4_loss: 0.0012 - dense_4_acc: 1.0000 - dense_4_acc_1: 1.0000 - dense_4_acc_2: 1.0000 - dense_4_acc_3: 1.0000 - dense_4_acc_4: 1.0000 - dense_4_acc_5: 0.9985 - dense_4_acc_6: 0.9996 - dense_4_acc_7: 1.0000 - dense_4_acc_8: 0.9985 - dense_4_acc_9: 0.999 - ETA: 10s - loss: 0.0153 - dense_4_loss: 0.0011 - dense_4_acc: 1.0000 - dense_4_acc_1: 1.0000 - dense_4_acc_2: 1.0000 - dense_4_acc_3: 1.0000 - dense_4_acc_4: 1.0000 - dense_4_acc_5: 0.9985 - dense_4_acc_6: 0.9996 - dense_4_acc_7: 1.0000 - dense_4_acc_8: 0.9985 - dense_4_acc_9: 0.999 - ETA: 10s - loss: 0.0151 - dense_4_loss: 0.0011 - dense_4_acc: 1.0000 - dense_4_acc_1: 1.0000 - dense_4_acc_2: 1.0000 - dense_4_acc_3: 1.0000 - dense_4_acc_4: 1.0000 - dense_4_acc_5: 0.9985 - dense_4_acc_6: 0.9996 - dense_4_acc_7: 1.0000 - dense_4_acc_8: 0.9985 - dense_4_acc_9: 0.999 - ETA: 9s - loss: 0.0150 - dense_4_loss: 0.0011 - dense_4_acc: 1.0000 - dense_4_acc_1: 1.0000 - dense_4_acc_2: 1.0000 - dense_4_acc_3: 1.0000 - dense_4_acc_4: 1.0000 - dense_4_acc_5: 0.9985 - dense_4_acc_6: 0.9996 - dense_4_acc_7: 1.0000 - dense_4_acc_8: 0.9985 - dense_4_acc_9: 0.999 - ETA: 9s - loss: 0.0149 - dense_4_loss: 0.0011 - dense_4_acc: 1.0000 - dense_4_acc_1: 1.0000 - dense_4_acc_2: 1.0000 - dense_4_acc_3: 1.0000 - dense_4_acc_4: 1.0000 - dense_4_acc_5: 0.9986 - dense_4_acc_6: 0.9996 - dense_4_acc_7: 1.0000 - dense_4_acc_8: 0.9986 - dense_4_acc_9: 0.99 - ETA: 9s - loss: 0.0150 - dense_4_loss: 0.0011 - dense_4_acc: 1.0000 - dense_4_acc_1: 1.0000 - dense_4_acc_2: 1.0000 - dense_4_acc_3: 1.0000 - dense_4_acc_4: 1.0000 - dense_4_acc_5: 0.9986 - dense_4_acc_6: 0.9996 - dense_4_acc_7: 1.0000 - dense_4_acc_8: 0.9984 - dense_4_acc_9: 0.99 - ETA: 8s - loss: 0.0148 - dense_4_loss: 0.0011 - dense_4_acc: 1.0000 - dense_4_acc_1: 1.0000 - dense_4_acc_2: 1.0000 - dense_4_acc_3: 1.0000 - dense_4_acc_4: 1.0000 - dense_4_acc_5: 0.9986 - dense_4_acc_6: 0.9997 - dense_4_acc_7: 1.0000 - dense_4_acc_8: 0.9984 - dense_4_acc_9: 0.9995"
     ]
    },
    {
     "name": "stdout",
     "output_type": "stream",
     "text": [
      " 8700/10000 [=========================>....] - ETA: 8s - loss: 0.0146 - dense_4_loss: 0.0011 - dense_4_acc: 1.0000 - dense_4_acc_1: 1.0000 - dense_4_acc_2: 1.0000 - dense_4_acc_3: 1.0000 - dense_4_acc_4: 1.0000 - dense_4_acc_5: 0.9986 - dense_4_acc_6: 0.9997 - dense_4_acc_7: 1.0000 - dense_4_acc_8: 0.9985 - dense_4_acc_9: 0.99 - ETA: 8s - loss: 0.0144 - dense_4_loss: 0.0011 - dense_4_acc: 1.0000 - dense_4_acc_1: 1.0000 - dense_4_acc_2: 1.0000 - dense_4_acc_3: 1.0000 - dense_4_acc_4: 1.0000 - dense_4_acc_5: 0.9987 - dense_4_acc_6: 0.9997 - dense_4_acc_7: 1.0000 - dense_4_acc_8: 0.9985 - dense_4_acc_9: 0.99 - ETA: 7s - loss: 0.0142 - dense_4_loss: 0.0010 - dense_4_acc: 1.0000 - dense_4_acc_1: 1.0000 - dense_4_acc_2: 1.0000 - dense_4_acc_3: 1.0000 - dense_4_acc_4: 1.0000 - dense_4_acc_5: 0.9987 - dense_4_acc_6: 0.9997 - dense_4_acc_7: 1.0000 - dense_4_acc_8: 0.9985 - dense_4_acc_9: 0.99 - ETA: 7s - loss: 0.0141 - dense_4_loss: 0.0010 - dense_4_acc: 1.0000 - dense_4_acc_1: 1.0000 - dense_4_acc_2: 1.0000 - dense_4_acc_3: 1.0000 - dense_4_acc_4: 1.0000 - dense_4_acc_5: 0.9987 - dense_4_acc_6: 0.9997 - dense_4_acc_7: 1.0000 - dense_4_acc_8: 0.9985 - dense_4_acc_9: 0.99 - ETA: 7s - loss: 0.0140 - dense_4_loss: 0.0010 - dense_4_acc: 1.0000 - dense_4_acc_1: 1.0000 - dense_4_acc_2: 1.0000 - dense_4_acc_3: 1.0000 - dense_4_acc_4: 1.0000 - dense_4_acc_5: 0.9987 - dense_4_acc_6: 0.9997 - dense_4_acc_7: 1.0000 - dense_4_acc_8: 0.9986 - dense_4_acc_9: 0.99 - ETA: 7s - loss: 0.0138 - dense_4_loss: 0.0010 - dense_4_acc: 1.0000 - dense_4_acc_1: 1.0000 - dense_4_acc_2: 1.0000 - dense_4_acc_3: 1.0000 - dense_4_acc_4: 1.0000 - dense_4_acc_5: 0.9988 - dense_4_acc_6: 0.9997 - dense_4_acc_7: 1.0000 - dense_4_acc_8: 0.9986 - dense_4_acc_9: 0.99 - ETA: 6s - loss: 0.0137 - dense_4_loss: 9.9658e-04 - dense_4_acc: 1.0000 - dense_4_acc_1: 1.0000 - dense_4_acc_2: 1.0000 - dense_4_acc_3: 1.0000 - dense_4_acc_4: 1.0000 - dense_4_acc_5: 0.9988 - dense_4_acc_6: 0.9997 - dense_4_acc_7: 1.0000 - dense_4_acc_8: 0.9986 - dense_4_acc_9: 0.99 - ETA: 6s - loss: 0.0136 - dense_4_loss: 9.8493e-04 - dense_4_acc: 1.0000 - dense_4_acc_1: 1.0000 - dense_4_acc_2: 1.0000 - dense_4_acc_3: 1.0000 - dense_4_acc_4: 1.0000 - dense_4_acc_5: 0.9988 - dense_4_acc_6: 0.9997 - dense_4_acc_7: 1.0000 - dense_4_acc_8: 0.9986 - dense_4_acc_9: 0.99 - ETA: 6s - loss: 0.0134 - dense_4_loss: 9.7907e-04 - dense_4_acc: 1.0000 - dense_4_acc_1: 1.0000 - dense_4_acc_2: 1.0000 - dense_4_acc_3: 1.0000 - dense_4_acc_4: 1.0000 - dense_4_acc_5: 0.9988 - dense_4_acc_6: 0.9997 - dense_4_acc_7: 1.0000 - dense_4_acc_8: 0.9987 - dense_4_acc_9: 0.99 - ETA: 6s - loss: 0.0133 - dense_4_loss: 9.6963e-04 - dense_4_acc: 1.0000 - dense_4_acc_1: 1.0000 - dense_4_acc_2: 1.0000 - dense_4_acc_3: 1.0000 - dense_4_acc_4: 1.0000 - dense_4_acc_5: 0.9988 - dense_4_acc_6: 0.9997 - dense_4_acc_7: 1.0000 - dense_4_acc_8: 0.9987 - dense_4_acc_9: 0.99 - ETA: 5s - loss: 0.0133 - dense_4_loss: 9.6022e-04 - dense_4_acc: 1.0000 - dense_4_acc_1: 1.0000 - dense_4_acc_2: 1.0000 - dense_4_acc_3: 1.0000 - dense_4_acc_4: 1.0000 - dense_4_acc_5: 0.9988 - dense_4_acc_6: 0.9996 - dense_4_acc_7: 1.0000 - dense_4_acc_8: 0.9987 - dense_4_acc_9: 0.99 - ETA: 5s - loss: 0.0133 - dense_4_loss: 9.5141e-04 - dense_4_acc: 1.0000 - dense_4_acc_1: 1.0000 - dense_4_acc_2: 1.0000 - dense_4_acc_3: 1.0000 - dense_4_acc_4: 1.0000 - dense_4_acc_5: 0.9989 - dense_4_acc_6: 0.9996 - dense_4_acc_7: 1.0000 - dense_4_acc_8: 0.9987 - dense_4_acc_9: 0.99 - ETA: 5s - loss: 0.0132 - dense_4_loss: 9.4128e-04 - dense_4_acc: 1.0000 - dense_4_acc_1: 1.0000 - dense_4_acc_2: 1.0000 - dense_4_acc_3: 1.0000 - dense_4_acc_4: 1.0000 - dense_4_acc_5: 0.9989 - dense_4_acc_6: 0.9996 - dense_4_acc_7: 1.0000 - dense_4_acc_8: 0.9987 - dense_4_acc_9: 0.99 - ETA: 5s - loss: 0.0130 - dense_4_loss: 9.3171e-04 - dense_4_acc: 1.0000 - dense_4_acc_1: 1.0000 - dense_4_acc_2: 1.0000 - dense_4_acc_3: 1.0000 - dense_4_acc_4: 1.0000 - dense_4_acc_5: 0.9989 - dense_4_acc_6: 0.9996 - dense_4_acc_7: 1.0000 - dense_4_acc_8: 0.9988 - dense_4_acc_9: 0.99 - ETA: 4s - loss: 0.0129 - dense_4_loss: 9.2545e-04 - dense_4_acc: 1.0000 - dense_4_acc_1: 1.0000 - dense_4_acc_2: 1.0000 - dense_4_acc_3: 1.0000 - dense_4_acc_4: 1.0000 - dense_4_acc_5: 0.9989 - dense_4_acc_6: 0.9996 - dense_4_acc_7: 1.0000 - dense_4_acc_8: 0.9988 - dense_4_acc_9: 0.99 - ETA: 4s - loss: 0.0128 - dense_4_loss: 9.1765e-04 - dense_4_acc: 1.0000 - dense_4_acc_1: 1.0000 - dense_4_acc_2: 1.0000 - dense_4_acc_3: 1.0000 - dense_4_acc_4: 1.0000 - dense_4_acc_5: 0.9989 - dense_4_acc_6: 0.9996 - dense_4_acc_7: 1.0000 - dense_4_acc_8: 0.9988 - dense_4_acc_9: 0.99 - ETA: 4s - loss: 0.0126 - dense_4_loss: 9.0981e-04 - dense_4_acc: 1.0000 - dense_4_acc_1: 1.0000 - dense_4_acc_2: 1.0000 - dense_4_acc_3: 1.0000 - dense_4_acc_4: 1.0000 - dense_4_acc_5: 0.9989 - dense_4_acc_6: 0.9996 - dense_4_acc_7: 1.0000 - dense_4_acc_8: 0.9988 - dense_4_acc_9: 0.99 - ETA: 4s - loss: 0.0125 - dense_4_loss: 9.0239e-04 - dense_4_acc: 1.0000 - dense_4_acc_1: 1.0000 - dense_4_acc_2: 1.0000 - dense_4_acc_3: 1.0000 - dense_4_acc_4: 1.0000 - dense_4_acc_5: 0.9989 - dense_4_acc_6: 0.9996 - dense_4_acc_7: 1.0000 - dense_4_acc_8: 0.9988 - dense_4_acc_9: 0.99 - ETA: 4s - loss: 0.0128 - dense_4_loss: 8.9358e-04 - dense_4_acc: 1.0000 - dense_4_acc_1: 1.0000 - dense_4_acc_2: 1.0000 - dense_4_acc_3: 1.0000 - dense_4_acc_4: 1.0000 - dense_4_acc_5: 0.9990 - dense_4_acc_6: 0.9996 - dense_4_acc_7: 1.0000 - dense_4_acc_8: 0.9987 - dense_4_acc_9: 0.99 - ETA: 3s - loss: 0.0126 - dense_4_loss: 8.8715e-04 - dense_4_acc: 1.0000 - dense_4_acc_1: 1.0000 - dense_4_acc_2: 1.0000 - dense_4_acc_3: 1.0000 - dense_4_acc_4: 1.0000 - dense_4_acc_5: 0.9990 - dense_4_acc_6: 0.9996 - dense_4_acc_7: 1.0000 - dense_4_acc_8: 0.9987 - dense_4_acc_9: 0.99 - ETA: 3s - loss: 0.0127 - dense_4_loss: 8.8196e-04 - dense_4_acc: 1.0000 - dense_4_acc_1: 1.0000 - dense_4_acc_2: 1.0000 - dense_4_acc_3: 1.0000 - dense_4_acc_4: 1.0000 - dense_4_acc_5: 0.9990 - dense_4_acc_6: 0.9996 - dense_4_acc_7: 1.0000 - dense_4_acc_8: 0.9987 - dense_4_acc_9: 0.99 - ETA: 3s - loss: 0.0126 - dense_4_loss: 8.7632e-04 - dense_4_acc: 1.0000 - dense_4_acc_1: 1.0000 - dense_4_acc_2: 1.0000 - dense_4_acc_3: 1.0000 - dense_4_acc_4: 1.0000 - dense_4_acc_5: 0.9990 - dense_4_acc_6: 0.9996 - dense_4_acc_7: 1.0000 - dense_4_acc_8: 0.9988 - dense_4_acc_9: 0.99 - ETA: 3s - loss: 0.0125 - dense_4_loss: 8.7005e-04 - dense_4_acc: 1.0000 - dense_4_acc_1: 1.0000 - dense_4_acc_2: 1.0000 - dense_4_acc_3: 1.0000 - dense_4_acc_4: 1.0000 - dense_4_acc_5: 0.9990 - dense_4_acc_6: 0.9996 - dense_4_acc_7: 1.0000 - dense_4_acc_8: 0.9988 - dense_4_acc_9: 0.99 - ETA: 3s - loss: 0.0124 - dense_4_loss: 8.6448e-04 - dense_4_acc: 1.0000 - dense_4_acc_1: 1.0000 - dense_4_acc_2: 1.0000 - dense_4_acc_3: 1.0000 - dense_4_acc_4: 1.0000 - dense_4_acc_5: 0.9990 - dense_4_acc_6: 0.9996 - dense_4_acc_7: 1.0000 - dense_4_acc_8: 0.9988 - dense_4_acc_9: 0.99 - ETA: 2s - loss: 0.0123 - dense_4_loss: 8.5990e-04 - dense_4_acc: 1.0000 - dense_4_acc_1: 1.0000 - dense_4_acc_2: 1.0000 - dense_4_acc_3: 1.0000 - dense_4_acc_4: 1.0000 - dense_4_acc_5: 0.9990 - dense_4_acc_6: 0.9996 - dense_4_acc_7: 1.0000 - dense_4_acc_8: 0.9988 - dense_4_acc_9: 0.99 - ETA: 2s - loss: 0.0123 - dense_4_loss: 8.5370e-04 - dense_4_acc: 1.0000 - dense_4_acc_1: 1.0000 - dense_4_acc_2: 1.0000 - dense_4_acc_3: 1.0000 - dense_4_acc_4: 1.0000 - dense_4_acc_5: 0.9990 - dense_4_acc_6: 0.9996 - dense_4_acc_7: 1.0000 - dense_4_acc_8: 0.9988 - dense_4_acc_9: 0.99 - ETA: 2s - loss: 0.0122 - dense_4_loss: 8.4804e-04 - dense_4_acc: 1.0000 - dense_4_acc_1: 1.0000 - dense_4_acc_2: 1.0000 - dense_4_acc_3: 1.0000 - dense_4_acc_4: 1.0000 - dense_4_acc_5: 0.9991 - dense_4_acc_6: 0.9996 - dense_4_acc_7: 1.0000 - dense_4_acc_8: 0.9988 - dense_4_acc_9: 0.99 - ETA: 2s - loss: 0.0121 - dense_4_loss: 8.4105e-04 - dense_4_acc: 1.0000 - dense_4_acc_1: 1.0000 - dense_4_acc_2: 1.0000 - dense_4_acc_3: 1.0000 - dense_4_acc_4: 1.0000 - dense_4_acc_5: 0.9991 - dense_4_acc_6: 0.9997 - dense_4_acc_7: 1.0000 - dense_4_acc_8: 0.9988 - dense_4_acc_9: 0.99 - ETA: 2s - loss: 0.0121 - dense_4_loss: 8.3449e-04 - dense_4_acc: 1.0000 - dense_4_acc_1: 1.0000 - dense_4_acc_2: 1.0000 - dense_4_acc_3: 1.0000 - dense_4_acc_4: 1.0000 - dense_4_acc_5: 0.9991 - dense_4_acc_6: 0.9997 - dense_4_acc_7: 1.0000 - dense_4_acc_8: 0.9989 - dense_4_acc_9: 0.9997"
     ]
    },
    {
     "name": "stdout",
     "output_type": "stream",
     "text": [
      "10000/10000 [==============================] - ETA: 1s - loss: 0.0120 - dense_4_loss: 8.2973e-04 - dense_4_acc: 1.0000 - dense_4_acc_1: 1.0000 - dense_4_acc_2: 1.0000 - dense_4_acc_3: 1.0000 - dense_4_acc_4: 1.0000 - dense_4_acc_5: 0.9991 - dense_4_acc_6: 0.9997 - dense_4_acc_7: 1.0000 - dense_4_acc_8: 0.9989 - dense_4_acc_9: 0.99 - ETA: 1s - loss: 0.0119 - dense_4_loss: 8.2345e-04 - dense_4_acc: 1.0000 - dense_4_acc_1: 1.0000 - dense_4_acc_2: 1.0000 - dense_4_acc_3: 1.0000 - dense_4_acc_4: 1.0000 - dense_4_acc_5: 0.9991 - dense_4_acc_6: 0.9997 - dense_4_acc_7: 1.0000 - dense_4_acc_8: 0.9989 - dense_4_acc_9: 0.99 - ETA: 1s - loss: 0.0118 - dense_4_loss: 8.1995e-04 - dense_4_acc: 1.0000 - dense_4_acc_1: 1.0000 - dense_4_acc_2: 1.0000 - dense_4_acc_3: 1.0000 - dense_4_acc_4: 1.0000 - dense_4_acc_5: 0.9991 - dense_4_acc_6: 0.9997 - dense_4_acc_7: 1.0000 - dense_4_acc_8: 0.9989 - dense_4_acc_9: 0.99 - ETA: 1s - loss: 0.0117 - dense_4_loss: 8.1323e-04 - dense_4_acc: 1.0000 - dense_4_acc_1: 1.0000 - dense_4_acc_2: 1.0000 - dense_4_acc_3: 1.0000 - dense_4_acc_4: 1.0000 - dense_4_acc_5: 0.9991 - dense_4_acc_6: 0.9997 - dense_4_acc_7: 1.0000 - dense_4_acc_8: 0.9989 - dense_4_acc_9: 0.99 - ETA: 1s - loss: 0.0117 - dense_4_loss: 8.0679e-04 - dense_4_acc: 1.0000 - dense_4_acc_1: 1.0000 - dense_4_acc_2: 1.0000 - dense_4_acc_3: 1.0000 - dense_4_acc_4: 1.0000 - dense_4_acc_5: 0.9991 - dense_4_acc_6: 0.9997 - dense_4_acc_7: 1.0000 - dense_4_acc_8: 0.9989 - dense_4_acc_9: 0.99 - ETA: 1s - loss: 0.0116 - dense_4_loss: 8.0102e-04 - dense_4_acc: 1.0000 - dense_4_acc_1: 1.0000 - dense_4_acc_2: 1.0000 - dense_4_acc_3: 1.0000 - dense_4_acc_4: 1.0000 - dense_4_acc_5: 0.9991 - dense_4_acc_6: 0.9997 - dense_4_acc_7: 1.0000 - dense_4_acc_8: 0.9989 - dense_4_acc_9: 0.99 - ETA: 0s - loss: 0.0115 - dense_4_loss: 7.9588e-04 - dense_4_acc: 1.0000 - dense_4_acc_1: 1.0000 - dense_4_acc_2: 1.0000 - dense_4_acc_3: 1.0000 - dense_4_acc_4: 1.0000 - dense_4_acc_5: 0.9991 - dense_4_acc_6: 0.9997 - dense_4_acc_7: 1.0000 - dense_4_acc_8: 0.9989 - dense_4_acc_9: 0.99 - ETA: 0s - loss: 0.0115 - dense_4_loss: 7.9053e-04 - dense_4_acc: 1.0000 - dense_4_acc_1: 1.0000 - dense_4_acc_2: 1.0000 - dense_4_acc_3: 1.0000 - dense_4_acc_4: 1.0000 - dense_4_acc_5: 0.9992 - dense_4_acc_6: 0.9997 - dense_4_acc_7: 1.0000 - dense_4_acc_8: 0.9989 - dense_4_acc_9: 0.99 - ETA: 0s - loss: 0.0114 - dense_4_loss: 7.8499e-04 - dense_4_acc: 1.0000 - dense_4_acc_1: 1.0000 - dense_4_acc_2: 1.0000 - dense_4_acc_3: 1.0000 - dense_4_acc_4: 1.0000 - dense_4_acc_5: 0.9992 - dense_4_acc_6: 0.9997 - dense_4_acc_7: 1.0000 - dense_4_acc_8: 0.9990 - dense_4_acc_9: 0.99 - ETA: 0s - loss: 0.0114 - dense_4_loss: 8.1459e-04 - dense_4_acc: 1.0000 - dense_4_acc_1: 1.0000 - dense_4_acc_2: 1.0000 - dense_4_acc_3: 1.0000 - dense_4_acc_4: 1.0000 - dense_4_acc_5: 0.9992 - dense_4_acc_6: 0.9997 - dense_4_acc_7: 1.0000 - dense_4_acc_8: 0.9990 - dense_4_acc_9: 0.99 - ETA: 0s - loss: 0.0113 - dense_4_loss: 8.0935e-04 - dense_4_acc: 1.0000 - dense_4_acc_1: 1.0000 - dense_4_acc_2: 1.0000 - dense_4_acc_3: 1.0000 - dense_4_acc_4: 1.0000 - dense_4_acc_5: 0.9992 - dense_4_acc_6: 0.9997 - dense_4_acc_7: 1.0000 - dense_4_acc_8: 0.9990 - dense_4_acc_9: 0.99 - ETA: 0s - loss: 0.0112 - dense_4_loss: 8.0451e-04 - dense_4_acc: 1.0000 - dense_4_acc_1: 1.0000 - dense_4_acc_2: 1.0000 - dense_4_acc_3: 1.0000 - dense_4_acc_4: 1.0000 - dense_4_acc_5: 0.9992 - dense_4_acc_6: 0.9997 - dense_4_acc_7: 1.0000 - dense_4_acc_8: 0.9990 - dense_4_acc_9: 0.99 - 15s 1ms/step - loss: 0.0112 - dense_4_loss: 7.9930e-04 - dense_4_acc: 1.0000 - dense_4_acc_1: 1.0000 - dense_4_acc_2: 1.0000 - dense_4_acc_3: 1.0000 - dense_4_acc_4: 1.0000 - dense_4_acc_5: 0.9992 - dense_4_acc_6: 0.9997 - dense_4_acc_7: 1.0000 - dense_4_acc_8: 0.9990 - dense_4_acc_9: 0.9997\n"
     ]
    },
    {
     "data": {
      "text/plain": [
       "<keras.callbacks.History at 0x173a2352fd0>"
      ]
     },
     "execution_count": 38,
     "metadata": {},
     "output_type": "execute_result"
    }
   ],
   "source": [
    "model.fit([Xoh, s0, c0], outputs, epochs=1, batch_size=100)"
   ]
  },
  {
   "cell_type": "markdown",
   "metadata": {},
   "source": [
    "While training you can see the loss as well as the accuracy on each of the 10 positions of the output. The table below gives you an example of what the accuracies could be if the batch had 2 examples: \n",
    "\n",
    "<img src=\"images/table.png\" style=\"width:700;height:200px;\"> <br>\n",
    "<caption><center>Thus, `dense_2_acc_8: 0.89` means that you are predicting the 7th character of the output correctly 89% of the time in the current batch of data. </center></caption>\n",
    "\n",
    "\n",
    "We have run this model for longer, and saved the weights. Run the next cell to load our weights. (By training a model for several minutes, you should be able to obtain a model of similar accuracy, but loading our model will save you time.) "
   ]
  },
  {
   "cell_type": "code",
   "execution_count": 39,
   "metadata": {},
   "outputs": [],
   "source": [
    "model.load_weights('models/model.h5')"
   ]
  },
  {
   "cell_type": "markdown",
   "metadata": {},
   "source": [
    "You can now see the results on new examples."
   ]
  },
  {
   "cell_type": "code",
   "execution_count": 44,
   "metadata": {},
   "outputs": [
    {
     "ename": "ValueError",
     "evalue": "Error when checking input: expected input_3 to have 3 dimensions, but got array with shape (37, 30)",
     "output_type": "error",
     "traceback": [
      "\u001b[1;31m---------------------------------------------------------------------------\u001b[0m",
      "\u001b[1;31mValueError\u001b[0m                                Traceback (most recent call last)",
      "\u001b[1;32m<ipython-input-44-1fb9a36d1569>\u001b[0m in \u001b[0;36m<module>\u001b[1;34m\u001b[0m\n\u001b[0;32m      7\u001b[0m     \u001b[0msource\u001b[0m \u001b[1;33m=\u001b[0m \u001b[1;33m[\u001b[0m\u001b[1;36m1\u001b[0m\u001b[1;33m]\u001b[0m \u001b[1;33m+\u001b[0m \u001b[0msource\u001b[0m\u001b[1;33m\u001b[0m\u001b[1;33m\u001b[0m\u001b[0m\n\u001b[0;32m      8\u001b[0m \u001b[1;33m\u001b[0m\u001b[0m\n\u001b[1;32m----> 9\u001b[1;33m     \u001b[0mprediction\u001b[0m \u001b[1;33m=\u001b[0m \u001b[0mmodel\u001b[0m\u001b[1;33m.\u001b[0m\u001b[0mpredict\u001b[0m\u001b[1;33m(\u001b[0m\u001b[1;33m[\u001b[0m\u001b[0msource\u001b[0m\u001b[1;33m,\u001b[0m \u001b[0ms0\u001b[0m\u001b[1;33m,\u001b[0m \u001b[0mc0\u001b[0m\u001b[1;33m]\u001b[0m\u001b[1;33m)\u001b[0m\u001b[1;33m\u001b[0m\u001b[1;33m\u001b[0m\u001b[0m\n\u001b[0m\u001b[0;32m     10\u001b[0m     \u001b[0mprediction\u001b[0m \u001b[1;33m=\u001b[0m \u001b[0mnp\u001b[0m\u001b[1;33m.\u001b[0m\u001b[0margmax\u001b[0m\u001b[1;33m(\u001b[0m\u001b[0mprediction\u001b[0m\u001b[1;33m,\u001b[0m \u001b[0maxis\u001b[0m \u001b[1;33m=\u001b[0m \u001b[1;33m-\u001b[0m\u001b[1;36m1\u001b[0m\u001b[1;33m)\u001b[0m\u001b[1;33m\u001b[0m\u001b[1;33m\u001b[0m\u001b[0m\n\u001b[0;32m     11\u001b[0m \u001b[1;33m\u001b[0m\u001b[0m\n",
      "\u001b[1;32m~\\Anaconda3\\envs\\tensorflow\\lib\\site-packages\\keras\\engine\\training.py\u001b[0m in \u001b[0;36mpredict\u001b[1;34m(self, x, batch_size, verbose, steps)\u001b[0m\n\u001b[0;32m   1147\u001b[0m                              'argument.')\n\u001b[0;32m   1148\u001b[0m         \u001b[1;31m# Validate user data.\u001b[0m\u001b[1;33m\u001b[0m\u001b[1;33m\u001b[0m\u001b[1;33m\u001b[0m\u001b[0m\n\u001b[1;32m-> 1149\u001b[1;33m         \u001b[0mx\u001b[0m\u001b[1;33m,\u001b[0m \u001b[0m_\u001b[0m\u001b[1;33m,\u001b[0m \u001b[0m_\u001b[0m \u001b[1;33m=\u001b[0m \u001b[0mself\u001b[0m\u001b[1;33m.\u001b[0m\u001b[0m_standardize_user_data\u001b[0m\u001b[1;33m(\u001b[0m\u001b[0mx\u001b[0m\u001b[1;33m)\u001b[0m\u001b[1;33m\u001b[0m\u001b[1;33m\u001b[0m\u001b[0m\n\u001b[0m\u001b[0;32m   1150\u001b[0m         \u001b[1;32mif\u001b[0m \u001b[0mself\u001b[0m\u001b[1;33m.\u001b[0m\u001b[0mstateful\u001b[0m\u001b[1;33m:\u001b[0m\u001b[1;33m\u001b[0m\u001b[1;33m\u001b[0m\u001b[0m\n\u001b[0;32m   1151\u001b[0m             \u001b[1;32mif\u001b[0m \u001b[0mx\u001b[0m\u001b[1;33m[\u001b[0m\u001b[1;36m0\u001b[0m\u001b[1;33m]\u001b[0m\u001b[1;33m.\u001b[0m\u001b[0mshape\u001b[0m\u001b[1;33m[\u001b[0m\u001b[1;36m0\u001b[0m\u001b[1;33m]\u001b[0m \u001b[1;33m>\u001b[0m \u001b[0mbatch_size\u001b[0m \u001b[1;32mand\u001b[0m \u001b[0mx\u001b[0m\u001b[1;33m[\u001b[0m\u001b[1;36m0\u001b[0m\u001b[1;33m]\u001b[0m\u001b[1;33m.\u001b[0m\u001b[0mshape\u001b[0m\u001b[1;33m[\u001b[0m\u001b[1;36m0\u001b[0m\u001b[1;33m]\u001b[0m \u001b[1;33m%\u001b[0m \u001b[0mbatch_size\u001b[0m \u001b[1;33m!=\u001b[0m \u001b[1;36m0\u001b[0m\u001b[1;33m:\u001b[0m\u001b[1;33m\u001b[0m\u001b[1;33m\u001b[0m\u001b[0m\n",
      "\u001b[1;32m~\\Anaconda3\\envs\\tensorflow\\lib\\site-packages\\keras\\engine\\training.py\u001b[0m in \u001b[0;36m_standardize_user_data\u001b[1;34m(self, x, y, sample_weight, class_weight, check_array_lengths, batch_size)\u001b[0m\n\u001b[0;32m    749\u001b[0m             \u001b[0mfeed_input_shapes\u001b[0m\u001b[1;33m,\u001b[0m\u001b[1;33m\u001b[0m\u001b[1;33m\u001b[0m\u001b[0m\n\u001b[0;32m    750\u001b[0m             \u001b[0mcheck_batch_axis\u001b[0m\u001b[1;33m=\u001b[0m\u001b[1;32mFalse\u001b[0m\u001b[1;33m,\u001b[0m  \u001b[1;31m# Don't enforce the batch size.\u001b[0m\u001b[1;33m\u001b[0m\u001b[1;33m\u001b[0m\u001b[0m\n\u001b[1;32m--> 751\u001b[1;33m             exception_prefix='input')\n\u001b[0m\u001b[0;32m    752\u001b[0m \u001b[1;33m\u001b[0m\u001b[0m\n\u001b[0;32m    753\u001b[0m         \u001b[1;32mif\u001b[0m \u001b[0my\u001b[0m \u001b[1;32mis\u001b[0m \u001b[1;32mnot\u001b[0m \u001b[1;32mNone\u001b[0m\u001b[1;33m:\u001b[0m\u001b[1;33m\u001b[0m\u001b[1;33m\u001b[0m\u001b[0m\n",
      "\u001b[1;32m~\\Anaconda3\\envs\\tensorflow\\lib\\site-packages\\keras\\engine\\training_utils.py\u001b[0m in \u001b[0;36mstandardize_input_data\u001b[1;34m(data, names, shapes, check_batch_axis, exception_prefix)\u001b[0m\n\u001b[0;32m    126\u001b[0m                         \u001b[1;34m': expected '\u001b[0m \u001b[1;33m+\u001b[0m \u001b[0mnames\u001b[0m\u001b[1;33m[\u001b[0m\u001b[0mi\u001b[0m\u001b[1;33m]\u001b[0m \u001b[1;33m+\u001b[0m \u001b[1;34m' to have '\u001b[0m \u001b[1;33m+\u001b[0m\u001b[1;33m\u001b[0m\u001b[1;33m\u001b[0m\u001b[0m\n\u001b[0;32m    127\u001b[0m                         \u001b[0mstr\u001b[0m\u001b[1;33m(\u001b[0m\u001b[0mlen\u001b[0m\u001b[1;33m(\u001b[0m\u001b[0mshape\u001b[0m\u001b[1;33m)\u001b[0m\u001b[1;33m)\u001b[0m \u001b[1;33m+\u001b[0m \u001b[1;34m' dimensions, but got array '\u001b[0m\u001b[1;33m\u001b[0m\u001b[1;33m\u001b[0m\u001b[0m\n\u001b[1;32m--> 128\u001b[1;33m                         'with shape ' + str(data_shape))\n\u001b[0m\u001b[0;32m    129\u001b[0m                 \u001b[1;32mif\u001b[0m \u001b[1;32mnot\u001b[0m \u001b[0mcheck_batch_axis\u001b[0m\u001b[1;33m:\u001b[0m\u001b[1;33m\u001b[0m\u001b[1;33m\u001b[0m\u001b[0m\n\u001b[0;32m    130\u001b[0m                     \u001b[0mdata_shape\u001b[0m \u001b[1;33m=\u001b[0m \u001b[0mdata_shape\u001b[0m\u001b[1;33m[\u001b[0m\u001b[1;36m1\u001b[0m\u001b[1;33m:\u001b[0m\u001b[1;33m]\u001b[0m\u001b[1;33m\u001b[0m\u001b[1;33m\u001b[0m\u001b[0m\n",
      "\u001b[1;31mValueError\u001b[0m: Error when checking input: expected input_3 to have 3 dimensions, but got array with shape (37, 30)"
     ]
    }
   ],
   "source": [
    "EXAMPLES = ['3 May 1979', '5 April 09', '21th of August 2016', 'Tue 10 Jul 2007', 'Saturday May 9 2018', 'March 3 2001', 'March 3rd 2001', '1 March 2001']\n",
    "\n",
    "for example in EXAMPLES:\n",
    "\n",
    "    source = string_to_int(example, Tx, human_vocab)\n",
    "    source = np.array(list(map(lambda x: to_categorical(x, num_classes=len(human_vocab)), source))).swapaxes(0,1)\n",
    "    \n",
    "    prediction = model.predict([source, s0, c0])\n",
    "    prediction = np.argmax(prediction, axis = -1)\n",
    "\n",
    "    output = [inv_machine_vocab[int(i)] for i in prediction]\n",
    "    \n",
    "    print(\"source:\", example)\n",
    "    print(\"output:\", ''.join(output))"
   ]
  },
  {
   "cell_type": "markdown",
   "metadata": {},
   "source": [
    "You can also change these examples to test with your own examples. The next part will give you a better sense on what the attention mechanism is doing--i.e., what part of the input the network is paying attention to when generating a particular output character. "
   ]
  },
  {
   "cell_type": "markdown",
   "metadata": {},
   "source": [
    "## 3 - Visualizing Attention (Optional / Ungraded)\n",
    "\n",
    "Since the problem has a fixed output length of 10, it is also possible to carry out this task using 10 different softmax units to generate the 10 characters of the output. But one advantage of the attention model is that each part of the output (say the month) knows it needs to depend only on a small part of the input (the characters in the input giving the month). We can  visualize what part of the output is looking at what part of the input.\n",
    "\n",
    "Consider the task of translating \"Saturday 9 May 2018\" to \"2018-05-09\". If we visualize the computed $\\alpha^{\\langle t, t' \\rangle}$ we get this: \n",
    "\n",
    "<img src=\"images/date_attention.png\" style=\"width:600;height:300px;\"> <br>\n",
    "<caption><center> **Figure 8**: Full Attention Map</center></caption>\n",
    "\n",
    "Notice how the output ignores the \"Saturday\" portion of the input. None of the output timesteps are paying much attention to that portion of the input. We see also that 9 has been translated as 09 and May has been correctly translated into 05, with the output paying attention to the parts of the input it needs to to make the translation. The year mostly requires it to pay attention to the input's \"18\" in order to generate \"2018.\" \n",
    "\n"
   ]
  },
  {
   "cell_type": "markdown",
   "metadata": {},
   "source": [
    "### 3.1 - Getting the activations from the network\n",
    "\n",
    "Lets now visualize the attention values in your network. We'll propagate an example through the network, then visualize the values of $\\alpha^{\\langle t, t' \\rangle}$. \n",
    "\n",
    "To figure out where the attention values are located, let's start by printing a summary of the model ."
   ]
  },
  {
   "cell_type": "code",
   "execution_count": 41,
   "metadata": {},
   "outputs": [
    {
     "name": "stdout",
     "output_type": "stream",
     "text": [
      "__________________________________________________________________________________________________\n",
      "Layer (type)                    Output Shape         Param #     Connected to                     \n",
      "==================================================================================================\n",
      "input_3 (InputLayer)            (None, 30, 37)       0                                            \n",
      "__________________________________________________________________________________________________\n",
      "s0 (InputLayer)                 (None, 64)           0                                            \n",
      "__________________________________________________________________________________________________\n",
      "bidirectional_3 (Bidirectional) (None, 30, 64)       17920       input_3[0][0]                    \n",
      "__________________________________________________________________________________________________\n",
      "repeat_vector_1 (RepeatVector)  (None, 30, 64)       0           s0[0][0]                         \n",
      "                                                                 lstm_4[0][0]                     \n",
      "                                                                 lstm_4[1][0]                     \n",
      "                                                                 lstm_4[2][0]                     \n",
      "                                                                 lstm_4[3][0]                     \n",
      "                                                                 lstm_4[4][0]                     \n",
      "                                                                 lstm_4[5][0]                     \n",
      "                                                                 lstm_4[6][0]                     \n",
      "                                                                 lstm_4[7][0]                     \n",
      "                                                                 lstm_4[8][0]                     \n",
      "__________________________________________________________________________________________________\n",
      "concatenate_1 (Concatenate)     (None, 30, 128)      0           bidirectional_3[0][0]            \n",
      "                                                                 repeat_vector_1[20][0]           \n",
      "                                                                 bidirectional_3[0][0]            \n",
      "                                                                 repeat_vector_1[21][0]           \n",
      "                                                                 bidirectional_3[0][0]            \n",
      "                                                                 repeat_vector_1[22][0]           \n",
      "                                                                 bidirectional_3[0][0]            \n",
      "                                                                 repeat_vector_1[23][0]           \n",
      "                                                                 bidirectional_3[0][0]            \n",
      "                                                                 repeat_vector_1[24][0]           \n",
      "                                                                 bidirectional_3[0][0]            \n",
      "                                                                 repeat_vector_1[25][0]           \n",
      "                                                                 bidirectional_3[0][0]            \n",
      "                                                                 repeat_vector_1[26][0]           \n",
      "                                                                 bidirectional_3[0][0]            \n",
      "                                                                 repeat_vector_1[27][0]           \n",
      "                                                                 bidirectional_3[0][0]            \n",
      "                                                                 repeat_vector_1[28][0]           \n",
      "                                                                 bidirectional_3[0][0]            \n",
      "                                                                 repeat_vector_1[29][0]           \n",
      "__________________________________________________________________________________________________\n",
      "dense_1 (Dense)                 (None, 30, 10)       1290        concatenate_1[20][0]             \n",
      "                                                                 concatenate_1[21][0]             \n",
      "                                                                 concatenate_1[22][0]             \n",
      "                                                                 concatenate_1[23][0]             \n",
      "                                                                 concatenate_1[24][0]             \n",
      "                                                                 concatenate_1[25][0]             \n",
      "                                                                 concatenate_1[26][0]             \n",
      "                                                                 concatenate_1[27][0]             \n",
      "                                                                 concatenate_1[28][0]             \n",
      "                                                                 concatenate_1[29][0]             \n",
      "__________________________________________________________________________________________________\n",
      "dense_2 (Dense)                 (None, 30, 1)        11          dense_1[20][0]                   \n",
      "                                                                 dense_1[21][0]                   \n",
      "                                                                 dense_1[22][0]                   \n",
      "                                                                 dense_1[23][0]                   \n",
      "                                                                 dense_1[24][0]                   \n",
      "                                                                 dense_1[25][0]                   \n",
      "                                                                 dense_1[26][0]                   \n",
      "                                                                 dense_1[27][0]                   \n",
      "                                                                 dense_1[28][0]                   \n",
      "                                                                 dense_1[29][0]                   \n",
      "__________________________________________________________________________________________________\n",
      "attention_weights (Activation)  (None, 30, 1)        0           dense_2[20][0]                   \n",
      "                                                                 dense_2[21][0]                   \n",
      "                                                                 dense_2[22][0]                   \n",
      "                                                                 dense_2[23][0]                   \n",
      "                                                                 dense_2[24][0]                   \n",
      "                                                                 dense_2[25][0]                   \n",
      "                                                                 dense_2[26][0]                   \n",
      "                                                                 dense_2[27][0]                   \n",
      "                                                                 dense_2[28][0]                   \n",
      "                                                                 dense_2[29][0]                   \n",
      "__________________________________________________________________________________________________\n",
      "dot_1 (Dot)                     (None, 1, 64)        0           attention_weights[20][0]         \n",
      "                                                                 bidirectional_3[0][0]            \n",
      "                                                                 attention_weights[21][0]         \n",
      "                                                                 bidirectional_3[0][0]            \n",
      "                                                                 attention_weights[22][0]         \n",
      "                                                                 bidirectional_3[0][0]            \n",
      "                                                                 attention_weights[23][0]         \n",
      "                                                                 bidirectional_3[0][0]            \n"
     ]
    },
    {
     "name": "stdout",
     "output_type": "stream",
     "text": [
      "                                                                 attention_weights[24][0]         \n",
      "                                                                 bidirectional_3[0][0]            \n",
      "                                                                 attention_weights[25][0]         \n",
      "                                                                 bidirectional_3[0][0]            \n",
      "                                                                 attention_weights[26][0]         \n",
      "                                                                 bidirectional_3[0][0]            \n",
      "                                                                 attention_weights[27][0]         \n",
      "                                                                 bidirectional_3[0][0]            \n",
      "                                                                 attention_weights[28][0]         \n",
      "                                                                 bidirectional_3[0][0]            \n",
      "                                                                 attention_weights[29][0]         \n",
      "                                                                 bidirectional_3[0][0]            \n",
      "__________________________________________________________________________________________________\n",
      "c0 (InputLayer)                 (None, 64)           0                                            \n",
      "__________________________________________________________________________________________________\n",
      "lstm_4 (LSTM)                   [(None, 64), (None,  33024       dot_1[20][0]                     \n",
      "                                                                 s0[0][0]                         \n",
      "                                                                 c0[0][0]                         \n",
      "                                                                 dot_1[21][0]                     \n",
      "                                                                 lstm_4[0][0]                     \n",
      "                                                                 lstm_4[0][2]                     \n",
      "                                                                 dot_1[22][0]                     \n",
      "                                                                 lstm_4[1][0]                     \n",
      "                                                                 lstm_4[1][2]                     \n",
      "                                                                 dot_1[23][0]                     \n",
      "                                                                 lstm_4[2][0]                     \n",
      "                                                                 lstm_4[2][2]                     \n",
      "                                                                 dot_1[24][0]                     \n",
      "                                                                 lstm_4[3][0]                     \n",
      "                                                                 lstm_4[3][2]                     \n",
      "                                                                 dot_1[25][0]                     \n",
      "                                                                 lstm_4[4][0]                     \n",
      "                                                                 lstm_4[4][2]                     \n",
      "                                                                 dot_1[26][0]                     \n",
      "                                                                 lstm_4[5][0]                     \n",
      "                                                                 lstm_4[5][2]                     \n",
      "                                                                 dot_1[27][0]                     \n",
      "                                                                 lstm_4[6][0]                     \n",
      "                                                                 lstm_4[6][2]                     \n",
      "                                                                 dot_1[28][0]                     \n",
      "                                                                 lstm_4[7][0]                     \n",
      "                                                                 lstm_4[7][2]                     \n",
      "                                                                 dot_1[29][0]                     \n",
      "                                                                 lstm_4[8][0]                     \n",
      "                                                                 lstm_4[8][2]                     \n",
      "__________________________________________________________________________________________________\n",
      "dense_4 (Dense)                 (None, 11)           715         lstm_4[0][0]                     \n",
      "                                                                 lstm_4[1][0]                     \n",
      "                                                                 lstm_4[2][0]                     \n",
      "                                                                 lstm_4[3][0]                     \n",
      "                                                                 lstm_4[4][0]                     \n",
      "                                                                 lstm_4[5][0]                     \n",
      "                                                                 lstm_4[6][0]                     \n",
      "                                                                 lstm_4[7][0]                     \n",
      "                                                                 lstm_4[8][0]                     \n",
      "                                                                 lstm_4[9][0]                     \n",
      "==================================================================================================\n",
      "Total params: 52,960\n",
      "Trainable params: 52,960\n",
      "Non-trainable params: 0\n",
      "__________________________________________________________________________________________________\n"
     ]
    }
   ],
   "source": [
    "model.summary()"
   ]
  },
  {
   "cell_type": "markdown",
   "metadata": {},
   "source": [
    "Navigate through the output of `model.summary()` above. You can see that the layer named `attention_weights` outputs the `alphas` of shape (m, 30, 1) before `dot_2` computes the context vector for every time step $t = 0, \\ldots, T_y-1$. Lets get the activations from this layer.\n",
    "\n",
    "The function `attention_map()` pulls out the attention values from your model and plots them."
   ]
  },
  {
   "cell_type": "code",
   "execution_count": 42,
   "metadata": {
    "scrolled": false
   },
   "outputs": [
    {
     "ename": "InvalidArgumentError",
     "evalue": "You must feed a value for placeholder tensor 'c0' with dtype float and shape [?,64]\n\t [[{{node c0}} = Placeholder[dtype=DT_FLOAT, shape=[?,64], _device=\"/job:localhost/replica:0/task:0/device:CPU:0\"]()]]",
     "output_type": "error",
     "traceback": [
      "\u001b[1;31m---------------------------------------------------------------------------\u001b[0m",
      "\u001b[1;31mInvalidArgumentError\u001b[0m                      Traceback (most recent call last)",
      "\u001b[1;32m<ipython-input-42-5eda3607d2b0>\u001b[0m in \u001b[0;36m<module>\u001b[1;34m\u001b[0m\n\u001b[1;32m----> 1\u001b[1;33m \u001b[0mattention_map\u001b[0m \u001b[1;33m=\u001b[0m \u001b[0mplot_attention_map\u001b[0m\u001b[1;33m(\u001b[0m\u001b[0mmodel\u001b[0m\u001b[1;33m,\u001b[0m \u001b[0mhuman_vocab\u001b[0m\u001b[1;33m,\u001b[0m \u001b[0minv_machine_vocab\u001b[0m\u001b[1;33m,\u001b[0m \u001b[1;34m\"Tuesday 09 Oct 1993\"\u001b[0m\u001b[1;33m,\u001b[0m \u001b[0mnum\u001b[0m \u001b[1;33m=\u001b[0m \u001b[1;36m7\u001b[0m\u001b[1;33m,\u001b[0m \u001b[0mn_s\u001b[0m \u001b[1;33m=\u001b[0m \u001b[1;36m64\u001b[0m\u001b[1;33m)\u001b[0m\u001b[1;33m\u001b[0m\u001b[1;33m\u001b[0m\u001b[0m\n\u001b[0m",
      "\u001b[1;32m~\\nmt_utils.py\u001b[0m in \u001b[0;36mplot_attention_map\u001b[1;34m(model, input_vocabulary, inv_output_vocabulary, text, n_s, num, Tx, Ty)\u001b[0m\n\u001b[0;32m    197\u001b[0m \u001b[1;33m\u001b[0m\u001b[0m\n\u001b[0;32m    198\u001b[0m     \u001b[0mf\u001b[0m \u001b[1;33m=\u001b[0m \u001b[0mK\u001b[0m\u001b[1;33m.\u001b[0m\u001b[0mfunction\u001b[0m\u001b[1;33m(\u001b[0m\u001b[0mmodel\u001b[0m\u001b[1;33m.\u001b[0m\u001b[0minputs\u001b[0m\u001b[1;33m,\u001b[0m \u001b[1;33m[\u001b[0m\u001b[0mlayer\u001b[0m\u001b[1;33m.\u001b[0m\u001b[0mget_output_at\u001b[0m\u001b[1;33m(\u001b[0m\u001b[0mt\u001b[0m\u001b[1;33m)\u001b[0m \u001b[1;32mfor\u001b[0m \u001b[0mt\u001b[0m \u001b[1;32min\u001b[0m \u001b[0mrange\u001b[0m\u001b[1;33m(\u001b[0m\u001b[0mTy\u001b[0m\u001b[1;33m)\u001b[0m\u001b[1;33m]\u001b[0m\u001b[1;33m)\u001b[0m\u001b[1;33m\u001b[0m\u001b[1;33m\u001b[0m\u001b[0m\n\u001b[1;32m--> 199\u001b[1;33m     \u001b[0mr\u001b[0m \u001b[1;33m=\u001b[0m \u001b[0mf\u001b[0m\u001b[1;33m(\u001b[0m\u001b[1;33m[\u001b[0m\u001b[0mencoded\u001b[0m\u001b[1;33m,\u001b[0m \u001b[0ms0\u001b[0m\u001b[1;33m,\u001b[0m \u001b[0mc0\u001b[0m\u001b[1;33m]\u001b[0m\u001b[1;33m)\u001b[0m\u001b[1;33m\u001b[0m\u001b[1;33m\u001b[0m\u001b[0m\n\u001b[0m\u001b[0;32m    200\u001b[0m \u001b[1;33m\u001b[0m\u001b[0m\n\u001b[0;32m    201\u001b[0m     \u001b[1;32mfor\u001b[0m \u001b[0mt\u001b[0m \u001b[1;32min\u001b[0m \u001b[0mrange\u001b[0m\u001b[1;33m(\u001b[0m\u001b[0mTy\u001b[0m\u001b[1;33m)\u001b[0m\u001b[1;33m:\u001b[0m\u001b[1;33m\u001b[0m\u001b[1;33m\u001b[0m\u001b[0m\n",
      "\u001b[1;32m~\\Anaconda3\\envs\\tensorflow\\lib\\site-packages\\keras\\backend\\tensorflow_backend.py\u001b[0m in \u001b[0;36m__call__\u001b[1;34m(self, inputs)\u001b[0m\n\u001b[0;32m   2713\u001b[0m                 \u001b[1;32mreturn\u001b[0m \u001b[0mself\u001b[0m\u001b[1;33m.\u001b[0m\u001b[0m_legacy_call\u001b[0m\u001b[1;33m(\u001b[0m\u001b[0minputs\u001b[0m\u001b[1;33m)\u001b[0m\u001b[1;33m\u001b[0m\u001b[1;33m\u001b[0m\u001b[0m\n\u001b[0;32m   2714\u001b[0m \u001b[1;33m\u001b[0m\u001b[0m\n\u001b[1;32m-> 2715\u001b[1;33m             \u001b[1;32mreturn\u001b[0m \u001b[0mself\u001b[0m\u001b[1;33m.\u001b[0m\u001b[0m_call\u001b[0m\u001b[1;33m(\u001b[0m\u001b[0minputs\u001b[0m\u001b[1;33m)\u001b[0m\u001b[1;33m\u001b[0m\u001b[1;33m\u001b[0m\u001b[0m\n\u001b[0m\u001b[0;32m   2716\u001b[0m         \u001b[1;32melse\u001b[0m\u001b[1;33m:\u001b[0m\u001b[1;33m\u001b[0m\u001b[1;33m\u001b[0m\u001b[0m\n\u001b[0;32m   2717\u001b[0m             \u001b[1;32mif\u001b[0m \u001b[0mpy_any\u001b[0m\u001b[1;33m(\u001b[0m\u001b[0mis_tensor\u001b[0m\u001b[1;33m(\u001b[0m\u001b[0mx\u001b[0m\u001b[1;33m)\u001b[0m \u001b[1;32mfor\u001b[0m \u001b[0mx\u001b[0m \u001b[1;32min\u001b[0m \u001b[0minputs\u001b[0m\u001b[1;33m)\u001b[0m\u001b[1;33m:\u001b[0m\u001b[1;33m\u001b[0m\u001b[1;33m\u001b[0m\u001b[0m\n",
      "\u001b[1;32m~\\Anaconda3\\envs\\tensorflow\\lib\\site-packages\\keras\\backend\\tensorflow_backend.py\u001b[0m in \u001b[0;36m_call\u001b[1;34m(self, inputs)\u001b[0m\n\u001b[0;32m   2673\u001b[0m             \u001b[0mfetched\u001b[0m \u001b[1;33m=\u001b[0m \u001b[0mself\u001b[0m\u001b[1;33m.\u001b[0m\u001b[0m_callable_fn\u001b[0m\u001b[1;33m(\u001b[0m\u001b[1;33m*\u001b[0m\u001b[0marray_vals\u001b[0m\u001b[1;33m,\u001b[0m \u001b[0mrun_metadata\u001b[0m\u001b[1;33m=\u001b[0m\u001b[0mself\u001b[0m\u001b[1;33m.\u001b[0m\u001b[0mrun_metadata\u001b[0m\u001b[1;33m)\u001b[0m\u001b[1;33m\u001b[0m\u001b[1;33m\u001b[0m\u001b[0m\n\u001b[0;32m   2674\u001b[0m         \u001b[1;32melse\u001b[0m\u001b[1;33m:\u001b[0m\u001b[1;33m\u001b[0m\u001b[1;33m\u001b[0m\u001b[0m\n\u001b[1;32m-> 2675\u001b[1;33m             \u001b[0mfetched\u001b[0m \u001b[1;33m=\u001b[0m \u001b[0mself\u001b[0m\u001b[1;33m.\u001b[0m\u001b[0m_callable_fn\u001b[0m\u001b[1;33m(\u001b[0m\u001b[1;33m*\u001b[0m\u001b[0marray_vals\u001b[0m\u001b[1;33m)\u001b[0m\u001b[1;33m\u001b[0m\u001b[1;33m\u001b[0m\u001b[0m\n\u001b[0m\u001b[0;32m   2676\u001b[0m         \u001b[1;32mreturn\u001b[0m \u001b[0mfetched\u001b[0m\u001b[1;33m[\u001b[0m\u001b[1;33m:\u001b[0m\u001b[0mlen\u001b[0m\u001b[1;33m(\u001b[0m\u001b[0mself\u001b[0m\u001b[1;33m.\u001b[0m\u001b[0moutputs\u001b[0m\u001b[1;33m)\u001b[0m\u001b[1;33m]\u001b[0m\u001b[1;33m\u001b[0m\u001b[1;33m\u001b[0m\u001b[0m\n\u001b[0;32m   2677\u001b[0m \u001b[1;33m\u001b[0m\u001b[0m\n",
      "\u001b[1;32m~\\Anaconda3\\envs\\tensorflow\\lib\\site-packages\\tensorflow\\python\\client\\session.py\u001b[0m in \u001b[0;36m__call__\u001b[1;34m(self, *args, **kwargs)\u001b[0m\n\u001b[0;32m   1437\u001b[0m           ret = tf_session.TF_SessionRunCallable(\n\u001b[0;32m   1438\u001b[0m               \u001b[0mself\u001b[0m\u001b[1;33m.\u001b[0m\u001b[0m_session\u001b[0m\u001b[1;33m.\u001b[0m\u001b[0m_session\u001b[0m\u001b[1;33m,\u001b[0m \u001b[0mself\u001b[0m\u001b[1;33m.\u001b[0m\u001b[0m_handle\u001b[0m\u001b[1;33m,\u001b[0m \u001b[0margs\u001b[0m\u001b[1;33m,\u001b[0m \u001b[0mstatus\u001b[0m\u001b[1;33m,\u001b[0m\u001b[1;33m\u001b[0m\u001b[1;33m\u001b[0m\u001b[0m\n\u001b[1;32m-> 1439\u001b[1;33m               run_metadata_ptr)\n\u001b[0m\u001b[0;32m   1440\u001b[0m         \u001b[1;32mif\u001b[0m \u001b[0mrun_metadata\u001b[0m\u001b[1;33m:\u001b[0m\u001b[1;33m\u001b[0m\u001b[1;33m\u001b[0m\u001b[0m\n\u001b[0;32m   1441\u001b[0m           \u001b[0mproto_data\u001b[0m \u001b[1;33m=\u001b[0m \u001b[0mtf_session\u001b[0m\u001b[1;33m.\u001b[0m\u001b[0mTF_GetBuffer\u001b[0m\u001b[1;33m(\u001b[0m\u001b[0mrun_metadata_ptr\u001b[0m\u001b[1;33m)\u001b[0m\u001b[1;33m\u001b[0m\u001b[1;33m\u001b[0m\u001b[0m\n",
      "\u001b[1;32m~\\Anaconda3\\envs\\tensorflow\\lib\\site-packages\\tensorflow\\python\\framework\\errors_impl.py\u001b[0m in \u001b[0;36m__exit__\u001b[1;34m(self, type_arg, value_arg, traceback_arg)\u001b[0m\n\u001b[0;32m    526\u001b[0m             \u001b[1;32mNone\u001b[0m\u001b[1;33m,\u001b[0m \u001b[1;32mNone\u001b[0m\u001b[1;33m,\u001b[0m\u001b[1;33m\u001b[0m\u001b[1;33m\u001b[0m\u001b[0m\n\u001b[0;32m    527\u001b[0m             \u001b[0mcompat\u001b[0m\u001b[1;33m.\u001b[0m\u001b[0mas_text\u001b[0m\u001b[1;33m(\u001b[0m\u001b[0mc_api\u001b[0m\u001b[1;33m.\u001b[0m\u001b[0mTF_Message\u001b[0m\u001b[1;33m(\u001b[0m\u001b[0mself\u001b[0m\u001b[1;33m.\u001b[0m\u001b[0mstatus\u001b[0m\u001b[1;33m.\u001b[0m\u001b[0mstatus\u001b[0m\u001b[1;33m)\u001b[0m\u001b[1;33m)\u001b[0m\u001b[1;33m,\u001b[0m\u001b[1;33m\u001b[0m\u001b[1;33m\u001b[0m\u001b[0m\n\u001b[1;32m--> 528\u001b[1;33m             c_api.TF_GetCode(self.status.status))\n\u001b[0m\u001b[0;32m    529\u001b[0m     \u001b[1;31m# Delete the underlying status object from memory otherwise it stays alive\u001b[0m\u001b[1;33m\u001b[0m\u001b[1;33m\u001b[0m\u001b[1;33m\u001b[0m\u001b[0m\n\u001b[0;32m    530\u001b[0m     \u001b[1;31m# as there is a reference to status from this from the traceback due to\u001b[0m\u001b[1;33m\u001b[0m\u001b[1;33m\u001b[0m\u001b[1;33m\u001b[0m\u001b[0m\n",
      "\u001b[1;31mInvalidArgumentError\u001b[0m: You must feed a value for placeholder tensor 'c0' with dtype float and shape [?,64]\n\t [[{{node c0}} = Placeholder[dtype=DT_FLOAT, shape=[?,64], _device=\"/job:localhost/replica:0/task:0/device:CPU:0\"]()]]"
     ]
    }
   ],
   "source": [
    "attention_map = plot_attention_map(model, human_vocab, inv_machine_vocab, \"Tuesday 09 Oct 1993\", num = 7, n_s = 64)"
   ]
  },
  {
   "cell_type": "markdown",
   "metadata": {},
   "source": [
    "On the generated plot you can observe the values of the attention weights for each character of the predicted output. Examine this plot and check that where the network is paying attention makes sense to you.\n",
    "\n",
    "In the date translation application, you will observe that most of the time attention helps predict the year, and hasn't much impact on predicting the day/month."
   ]
  },
  {
   "cell_type": "markdown",
   "metadata": {},
   "source": [
    "### Congratulations!\n",
    "\n",
    "\n",
    "You have come to the end of this assignment \n",
    "\n",
    "<font color='blue'> **Here's what you should remember from this notebook**:\n",
    "\n",
    "- Machine translation models can be used to map from one sequence to another. They are useful not just for translating human languages (like French->English) but also for tasks like date format translation. \n",
    "- An attention mechanism allows a network to focus on the most relevant parts of the input when producing a specific part of the output. \n",
    "- A network using an attention mechanism can translate from inputs of length $T_x$ to outputs of length $T_y$, where $T_x$ and $T_y$ can be different. \n",
    "- You can visualize attention weights $\\alpha^{\\langle t,t' \\rangle}$ to see what the network is paying attention to while generating each output."
   ]
  },
  {
   "cell_type": "markdown",
   "metadata": {},
   "source": [
    "Congratulations on finishing this assignment! You are now able to implement an attention model and use it to learn complex mappings from one sequence to another. "
   ]
  }
 ],
 "metadata": {
  "coursera": {
   "course_slug": "nlp-sequence-models",
   "graded_item_id": "n16CQ",
   "launcher_item_id": "npjGi"
  },
  "kernelspec": {
   "display_name": "Python 3",
   "language": "python",
   "name": "python3"
  },
  "language_info": {
   "codemirror_mode": {
    "name": "ipython",
    "version": 3
   },
   "file_extension": ".py",
   "mimetype": "text/x-python",
   "name": "python",
   "nbconvert_exporter": "python",
   "pygments_lexer": "ipython3",
   "version": "3.6.7"
  }
 },
 "nbformat": 4,
 "nbformat_minor": 2
}
